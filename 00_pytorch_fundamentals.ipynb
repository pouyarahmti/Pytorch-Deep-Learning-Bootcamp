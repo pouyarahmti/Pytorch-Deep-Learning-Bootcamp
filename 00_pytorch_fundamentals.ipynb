{
  "nbformat": 4,
  "nbformat_minor": 0,
  "metadata": {
    "colab": {
      "provenance": [],
      "gpuType": "T4"
    },
    "kernelspec": {
      "name": "python3",
      "display_name": "Python 3"
    },
    "language_info": {
      "name": "python"
    },
    "accelerator": "GPU"
  },
  "cells": [
    {
      "cell_type": "markdown",
      "source": [
        "## 00.PyTorch Fundamentals\n"
      ],
      "metadata": {
        "id": "8Za8fZZRPw3Z"
      }
    },
    {
      "cell_type": "code",
      "source": [
        "import torch\n",
        "import matplotlib.pyplot as plt\n",
        "import numpy as np\n",
        "import pandas as pd\n",
        "\n",
        "print(torch.__version__)"
      ],
      "metadata": {
        "id": "cbq6i-OxbJBJ",
        "colab": {
          "base_uri": "https://localhost:8080/"
        },
        "outputId": "f3878244-e8c2-4259-8577-8898201fc534"
      },
      "execution_count": null,
      "outputs": [
        {
          "output_type": "stream",
          "name": "stdout",
          "text": [
            "2.1.0+cu121\n"
          ]
        }
      ]
    },
    {
      "cell_type": "code",
      "source": [
        "#Scalar Tensor\n",
        "\n",
        "scalar = torch.tensor(7)\n",
        "scalar"
      ],
      "metadata": {
        "colab": {
          "base_uri": "https://localhost:8080/"
        },
        "id": "qVA4-IbpYGzP",
        "outputId": "77f2057c-402d-4e1d-9db9-676f9af358b2"
      },
      "execution_count": null,
      "outputs": [
        {
          "output_type": "execute_result",
          "data": {
            "text/plain": [
              "tensor(7)"
            ]
          },
          "metadata": {},
          "execution_count": 2
        }
      ]
    },
    {
      "cell_type": "code",
      "source": [
        "scalar.ndim"
      ],
      "metadata": {
        "colab": {
          "base_uri": "https://localhost:8080/"
        },
        "id": "W7_Fo_WNauD1",
        "outputId": "99a9ec57-826c-4733-d345-7f576da436a8"
      },
      "execution_count": null,
      "outputs": [
        {
          "output_type": "execute_result",
          "data": {
            "text/plain": [
              "0"
            ]
          },
          "metadata": {},
          "execution_count": 4
        }
      ]
    },
    {
      "cell_type": "code",
      "source": [
        "scalar.item()\n"
      ],
      "metadata": {
        "id": "A15AYjYHcH9J",
        "colab": {
          "base_uri": "https://localhost:8080/"
        },
        "outputId": "bc3e08f5-aab3-4a83-d5d9-b3b4ddf9083b"
      },
      "execution_count": null,
      "outputs": [
        {
          "output_type": "execute_result",
          "data": {
            "text/plain": [
              "7"
            ]
          },
          "metadata": {},
          "execution_count": 5
        }
      ]
    },
    {
      "cell_type": "code",
      "source": [
        "# Vector\n",
        "\n",
        "vector = torch.tensor([7,7])\n",
        "vector"
      ],
      "metadata": {
        "colab": {
          "base_uri": "https://localhost:8080/"
        },
        "id": "TRu_4UlQcKWE",
        "outputId": "d62b9994-7887-4396-fcbc-df3d95ebd5af"
      },
      "execution_count": null,
      "outputs": [
        {
          "output_type": "execute_result",
          "data": {
            "text/plain": [
              "tensor([7, 7])"
            ]
          },
          "metadata": {},
          "execution_count": 51
        }
      ]
    },
    {
      "cell_type": "code",
      "source": [
        "vector.ndim"
      ],
      "metadata": {
        "colab": {
          "base_uri": "https://localhost:8080/"
        },
        "id": "avvYGzrhcZyU",
        "outputId": "d55f5a07-7c75-4637-c54a-a95bd8e8e70b"
      },
      "execution_count": null,
      "outputs": [
        {
          "output_type": "execute_result",
          "data": {
            "text/plain": [
              "1"
            ]
          },
          "metadata": {},
          "execution_count": 52
        }
      ]
    },
    {
      "cell_type": "code",
      "source": [
        "vector.shape"
      ],
      "metadata": {
        "colab": {
          "base_uri": "https://localhost:8080/"
        },
        "id": "ZfWsgExgccji",
        "outputId": "96074f5e-65c7-4fed-af94-81c35c61dd67"
      },
      "execution_count": null,
      "outputs": [
        {
          "output_type": "execute_result",
          "data": {
            "text/plain": [
              "torch.Size([2])"
            ]
          },
          "metadata": {},
          "execution_count": 53
        }
      ]
    },
    {
      "cell_type": "code",
      "source": [
        "# MATRIX\n",
        "\n",
        "MATRIX = torch.tensor([[7, 3], [8, 3] ])\n",
        "MATRIX"
      ],
      "metadata": {
        "colab": {
          "base_uri": "https://localhost:8080/"
        },
        "id": "JzseTZepcrpX",
        "outputId": "d40b2c69-b416-4527-c83a-ebfdfea9761e"
      },
      "execution_count": null,
      "outputs": [
        {
          "output_type": "execute_result",
          "data": {
            "text/plain": [
              "tensor([[7, 3],\n",
              "        [8, 3]])"
            ]
          },
          "metadata": {},
          "execution_count": 54
        }
      ]
    },
    {
      "cell_type": "code",
      "source": [
        "MATRIX.ndim"
      ],
      "metadata": {
        "colab": {
          "base_uri": "https://localhost:8080/"
        },
        "id": "1bZJ4z1Wc7Am",
        "outputId": "52fd3667-7166-4e04-ca17-dd9a0c1bc464"
      },
      "execution_count": null,
      "outputs": [
        {
          "output_type": "execute_result",
          "data": {
            "text/plain": [
              "2"
            ]
          },
          "metadata": {},
          "execution_count": 55
        }
      ]
    },
    {
      "cell_type": "code",
      "source": [
        "MATRIX[0][0].item()"
      ],
      "metadata": {
        "colab": {
          "base_uri": "https://localhost:8080/"
        },
        "id": "QJOeGP0hc9kU",
        "outputId": "abc4f73d-97e2-4579-8573-a7d67aa3867d"
      },
      "execution_count": null,
      "outputs": [
        {
          "output_type": "execute_result",
          "data": {
            "text/plain": [
              "7"
            ]
          },
          "metadata": {},
          "execution_count": 56
        }
      ]
    },
    {
      "cell_type": "code",
      "source": [
        "MATRIX.shape"
      ],
      "metadata": {
        "colab": {
          "base_uri": "https://localhost:8080/"
        },
        "id": "jhzVFC6LdDEW",
        "outputId": "c54ccb10-70d2-4e08-811e-94b19c369100"
      },
      "execution_count": null,
      "outputs": [
        {
          "output_type": "execute_result",
          "data": {
            "text/plain": [
              "torch.Size([2, 2])"
            ]
          },
          "metadata": {},
          "execution_count": 57
        }
      ]
    },
    {
      "cell_type": "code",
      "source": [
        "#TENSOR\n",
        "\n",
        "TENSOR = torch.tensor([[[[1,2], [3,4], [5,5]]]])\n",
        "\n",
        "TENSOR\n",
        "\n",
        "TENSOR.size()"
      ],
      "metadata": {
        "colab": {
          "base_uri": "https://localhost:8080/"
        },
        "id": "p91AgZxsdxIy",
        "outputId": "351bad44-0d57-4bcd-9e87-a21e1081aed4"
      },
      "execution_count": null,
      "outputs": [
        {
          "output_type": "execute_result",
          "data": {
            "text/plain": [
              "torch.Size([1, 1, 3, 2])"
            ]
          },
          "metadata": {},
          "execution_count": 9
        }
      ]
    },
    {
      "cell_type": "markdown",
      "source": [
        "### Random tensors"
      ],
      "metadata": {
        "id": "VKMWwJCPkRys"
      }
    },
    {
      "cell_type": "code",
      "source": [
        " # Create random tensor\n",
        "\n",
        "random_tensor = torch.rand(3,4)\n",
        "random_tensor"
      ],
      "metadata": {
        "colab": {
          "base_uri": "https://localhost:8080/"
        },
        "id": "B2f7XxHvkWOx",
        "outputId": "f39b5ffd-47c9-43bb-d520-2373f3eba359"
      },
      "execution_count": null,
      "outputs": [
        {
          "output_type": "execute_result",
          "data": {
            "text/plain": [
              "tensor([[0.3149, 0.0156, 0.8499, 0.5516],\n",
              "        [0.6762, 0.8005, 0.1687, 0.3977],\n",
              "        [0.1176, 0.8914, 0.9124, 0.4434]])"
            ]
          },
          "metadata": {},
          "execution_count": 59
        }
      ]
    },
    {
      "cell_type": "code",
      "source": [
        "random_tensor.shape"
      ],
      "metadata": {
        "colab": {
          "base_uri": "https://localhost:8080/"
        },
        "id": "a9FiCxy_lQrB",
        "outputId": "736edc62-9e88-4feb-efc8-c339061f2fa8"
      },
      "execution_count": null,
      "outputs": [
        {
          "output_type": "execute_result",
          "data": {
            "text/plain": [
              "torch.Size([3, 4])"
            ]
          },
          "metadata": {},
          "execution_count": 60
        }
      ]
    },
    {
      "cell_type": "code",
      "source": [
        "random_image_size_tensor = torch.rand(size=(224,244,3))\n",
        "random_image_size_tensor"
      ],
      "metadata": {
        "colab": {
          "base_uri": "https://localhost:8080/"
        },
        "id": "yJLVCE4mmH3i",
        "outputId": "e0f75f2c-d139-4c46-ba83-98b83010b18b"
      },
      "execution_count": null,
      "outputs": [
        {
          "output_type": "execute_result",
          "data": {
            "text/plain": [
              "tensor([[[0.6541, 0.0629, 0.4043],\n",
              "         [0.7330, 0.8204, 0.9424],\n",
              "         [0.4228, 0.4254, 0.5004],\n",
              "         ...,\n",
              "         [0.7579, 0.8379, 0.5648],\n",
              "         [0.0212, 0.8787, 0.3400],\n",
              "         [0.9539, 0.3916, 0.5288]],\n",
              "\n",
              "        [[0.3004, 0.8414, 0.5088],\n",
              "         [0.2826, 0.9660, 0.3057],\n",
              "         [0.6184, 0.2723, 0.2239],\n",
              "         ...,\n",
              "         [0.2843, 0.4295, 0.4021],\n",
              "         [0.3098, 0.7973, 0.1181],\n",
              "         [0.1613, 0.0898, 0.7255]],\n",
              "\n",
              "        [[0.9332, 0.8960, 0.0067],\n",
              "         [0.0434, 0.6627, 0.9814],\n",
              "         [0.7771, 0.9450, 0.2319],\n",
              "         ...,\n",
              "         [0.5303, 0.7919, 0.2493],\n",
              "         [0.7611, 0.1722, 0.3975],\n",
              "         [0.0916, 0.6201, 0.4574]],\n",
              "\n",
              "        ...,\n",
              "\n",
              "        [[0.0559, 0.0078, 0.0472],\n",
              "         [0.7747, 0.1286, 0.3708],\n",
              "         [0.9136, 0.1327, 0.7713],\n",
              "         ...,\n",
              "         [0.6150, 0.6368, 0.2255],\n",
              "         [0.3701, 0.6178, 0.9464],\n",
              "         [0.4793, 0.6887, 0.8222]],\n",
              "\n",
              "        [[0.8898, 0.7151, 0.0688],\n",
              "         [0.6108, 0.0471, 0.1609],\n",
              "         [0.0932, 0.9430, 0.1207],\n",
              "         ...,\n",
              "         [0.2082, 0.5021, 0.8065],\n",
              "         [0.5427, 0.4251, 0.5027],\n",
              "         [0.7411, 0.9102, 0.5749]],\n",
              "\n",
              "        [[0.4129, 0.2015, 0.7151],\n",
              "         [0.2332, 0.5380, 0.5408],\n",
              "         [0.5653, 0.9924, 0.7918],\n",
              "         ...,\n",
              "         [0.7112, 0.7302, 0.8566],\n",
              "         [0.9995, 0.8952, 0.0990],\n",
              "         [0.1554, 0.3443, 0.4362]]])"
            ]
          },
          "metadata": {},
          "execution_count": 61
        }
      ]
    },
    {
      "cell_type": "code",
      "source": [
        "random_image_tensor = torch.rand(size=(3,224,244))\n",
        "random_image_tensor"
      ],
      "metadata": {
        "colab": {
          "base_uri": "https://localhost:8080/"
        },
        "id": "sW1mMdconzrJ",
        "outputId": "ea1d02eb-1982-4616-9ab1-184123c6f0be"
      },
      "execution_count": null,
      "outputs": [
        {
          "output_type": "execute_result",
          "data": {
            "text/plain": [
              "tensor([[[0.2162, 0.5148, 0.9845,  ..., 0.0167, 0.3731, 0.9892],\n",
              "         [0.0219, 0.7717, 0.5510,  ..., 0.2331, 0.3578, 0.7218],\n",
              "         [0.8878, 0.3180, 0.3879,  ..., 0.5791, 0.9804, 0.7951],\n",
              "         ...,\n",
              "         [0.2048, 0.5651, 0.9490,  ..., 0.1153, 0.6878, 0.4210],\n",
              "         [0.1135, 0.6282, 0.0174,  ..., 0.9780, 0.3206, 0.9817],\n",
              "         [0.9018, 0.6725, 0.4483,  ..., 0.2240, 0.7488, 0.1615]],\n",
              "\n",
              "        [[0.0340, 0.1554, 0.8548,  ..., 0.4744, 0.5000, 0.0285],\n",
              "         [0.9333, 0.4175, 0.0822,  ..., 0.0838, 0.3007, 0.9976],\n",
              "         [0.3411, 0.5954, 0.6839,  ..., 0.1407, 0.3337, 0.9163],\n",
              "         ...,\n",
              "         [0.3127, 0.9232, 0.1398,  ..., 0.7249, 0.4157, 0.3502],\n",
              "         [0.1401, 0.0426, 0.0831,  ..., 0.5416, 0.4848, 0.9582],\n",
              "         [0.6369, 0.1727, 0.7380,  ..., 0.7174, 0.3119, 0.1090]],\n",
              "\n",
              "        [[0.3799, 0.8286, 0.8358,  ..., 0.4494, 0.7447, 0.8955],\n",
              "         [0.7266, 0.0556, 0.6441,  ..., 0.1105, 0.4553, 0.5336],\n",
              "         [0.7904, 0.0636, 0.5805,  ..., 0.0319, 0.2865, 0.3674],\n",
              "         ...,\n",
              "         [0.0989, 0.7710, 0.6135,  ..., 0.1849, 0.3885, 0.4017],\n",
              "         [0.9207, 0.9767, 0.4714,  ..., 0.4773, 0.3920, 0.3547],\n",
              "         [0.1967, 0.5801, 0.6563,  ..., 0.2250, 0.8074, 0.4454]]])"
            ]
          },
          "metadata": {},
          "execution_count": 62
        }
      ]
    },
    {
      "cell_type": "markdown",
      "source": [
        "#### ZEROS and ones"
      ],
      "metadata": {
        "id": "BgpI5_ljp1uJ"
      }
    },
    {
      "cell_type": "code",
      "source": [
        "# Create a tensor of all zeros\n",
        "zeros = torch.zeros(size=(3,4))\n",
        "zeros"
      ],
      "metadata": {
        "colab": {
          "base_uri": "https://localhost:8080/"
        },
        "id": "yWUOL5R0pfuA",
        "outputId": "2805a90f-2829-4137-84eb-f2f3186c7ede"
      },
      "execution_count": null,
      "outputs": [
        {
          "output_type": "execute_result",
          "data": {
            "text/plain": [
              "tensor([[0., 0., 0., 0.],\n",
              "        [0., 0., 0., 0.],\n",
              "        [0., 0., 0., 0.]])"
            ]
          },
          "metadata": {},
          "execution_count": 63
        }
      ]
    },
    {
      "cell_type": "code",
      "source": [
        "# Create a tensor of all ones\n",
        "\n",
        "ones = torch.ones(size=(3,4))\n",
        "ones"
      ],
      "metadata": {
        "colab": {
          "base_uri": "https://localhost:8080/"
        },
        "id": "tHMcDwbuqOAl",
        "outputId": "414d377f-1841-4662-94e2-6854d30164f5"
      },
      "execution_count": null,
      "outputs": [
        {
          "output_type": "execute_result",
          "data": {
            "text/plain": [
              "tensor([[1., 1., 1., 1.],\n",
              "        [1., 1., 1., 1.],\n",
              "        [1., 1., 1., 1.]])"
            ]
          },
          "metadata": {},
          "execution_count": 64
        }
      ]
    },
    {
      "cell_type": "markdown",
      "source": [
        "### Creating a range of tensors and tensors-like"
      ],
      "metadata": {
        "id": "Ck_fgb5mqwcH"
      }
    },
    {
      "cell_type": "code",
      "source": [],
      "metadata": {
        "id": "sREztobDsnF8"
      },
      "execution_count": null,
      "outputs": []
    },
    {
      "cell_type": "code",
      "source": [
        "# User torch.range()\n",
        "torch.range(0,10)\n"
      ],
      "metadata": {
        "colab": {
          "base_uri": "https://localhost:8080/"
        },
        "id": "aGdX12y8q06P",
        "outputId": "23ee5ed8-ca28-46da-9d44-76380d245c47"
      },
      "execution_count": null,
      "outputs": [
        {
          "output_type": "stream",
          "name": "stderr",
          "text": [
            "<ipython-input-65-f0a6fb998290>:2: UserWarning: torch.range is deprecated and will be removed in a future release because its behavior is inconsistent with Python's range builtin. Instead, use torch.arange, which produces values in [start, end).\n",
            "  torch.range(0,10)\n"
          ]
        },
        {
          "output_type": "execute_result",
          "data": {
            "text/plain": [
              "tensor([ 0.,  1.,  2.,  3.,  4.,  5.,  6.,  7.,  8.,  9., 10.])"
            ]
          },
          "metadata": {},
          "execution_count": 65
        }
      ]
    },
    {
      "cell_type": "code",
      "source": [
        "# Torch.arange()\n",
        "one_to_ten = torch.arange(1,11,)\n",
        "one_to_ten"
      ],
      "metadata": {
        "colab": {
          "base_uri": "https://localhost:8080/"
        },
        "id": "wjorkzjUrI1P",
        "outputId": "a008a314-969c-4bb3-cf34-ce5a00ae3a71"
      },
      "execution_count": null,
      "outputs": [
        {
          "output_type": "execute_result",
          "data": {
            "text/plain": [
              "tensor([ 1,  2,  3,  4,  5,  6,  7,  8,  9, 10])"
            ]
          },
          "metadata": {},
          "execution_count": 66
        }
      ]
    },
    {
      "cell_type": "code",
      "source": [
        "# Creating tensors like\n",
        "ten_zeros = torch.zeros_like(one_to_ten)\n",
        "ten_zeros"
      ],
      "metadata": {
        "colab": {
          "base_uri": "https://localhost:8080/"
        },
        "id": "y1_Zp2Tfspv2",
        "outputId": "2d58734f-bbdf-47dd-806f-ab1f0b1d0c88"
      },
      "execution_count": null,
      "outputs": [
        {
          "output_type": "execute_result",
          "data": {
            "text/plain": [
              "tensor([0, 0, 0, 0, 0, 0, 0, 0, 0, 0])"
            ]
          },
          "metadata": {},
          "execution_count": 67
        }
      ]
    },
    {
      "cell_type": "markdown",
      "source": [
        "### Tensor Data Types"
      ],
      "metadata": {
        "id": "2FZII8do4vZ7"
      }
    },
    {
      "cell_type": "code",
      "source": [
        "# Float 32 tensor\n",
        "\n",
        "float_32_tensor = torch.tensor([3.1,6.5,9.2,], dtype=None, device=None, requires_grad=False,)\n",
        "float_32_tensor"
      ],
      "metadata": {
        "colab": {
          "base_uri": "https://localhost:8080/"
        },
        "id": "AX_Amg904zPy",
        "outputId": "fad4c132-b9fb-4dee-a890-b8be9316fb95"
      },
      "execution_count": null,
      "outputs": [
        {
          "output_type": "execute_result",
          "data": {
            "text/plain": [
              "tensor([3.1000, 6.5000, 9.2000])"
            ]
          },
          "metadata": {},
          "execution_count": 68
        }
      ]
    },
    {
      "cell_type": "code",
      "source": [
        "#Float 16 tensor\n",
        "\n",
        "float_16_tensor = float_32_tensor.type(dtype=torch.float16)\n",
        "float_16_tensor"
      ],
      "metadata": {
        "colab": {
          "base_uri": "https://localhost:8080/"
        },
        "id": "0M5EMhEN6lOg",
        "outputId": "bae68e39-ca85-4d32-9765-ed77ebfe5058"
      },
      "execution_count": null,
      "outputs": [
        {
          "output_type": "execute_result",
          "data": {
            "text/plain": [
              "tensor([3.0996, 6.5000, 9.2031], dtype=torch.float16)"
            ]
          },
          "metadata": {},
          "execution_count": 69
        }
      ]
    },
    {
      "cell_type": "code",
      "source": [
        "result = float_16_tensor * float_32_tensor\n",
        "result.dtype"
      ],
      "metadata": {
        "colab": {
          "base_uri": "https://localhost:8080/"
        },
        "id": "p8ntsiVi7Xta",
        "outputId": "f001578e-dad8-4581-bb16-b0be9ef000ec"
      },
      "execution_count": null,
      "outputs": [
        {
          "output_type": "execute_result",
          "data": {
            "text/plain": [
              "torch.float32"
            ]
          },
          "metadata": {},
          "execution_count": 70
        }
      ]
    },
    {
      "cell_type": "code",
      "source": [
        "int_32_tensor = torch.tensor([3,4, 6], dtype=torch.int32)\n",
        "int_32_tensor"
      ],
      "metadata": {
        "colab": {
          "base_uri": "https://localhost:8080/"
        },
        "id": "rsuQ6uYJJH-g",
        "outputId": "957e004f-9490-4df5-c196-93b96d7b06b0"
      },
      "execution_count": null,
      "outputs": [
        {
          "output_type": "execute_result",
          "data": {
            "text/plain": [
              "tensor([3, 4, 6], dtype=torch.int32)"
            ]
          },
          "metadata": {},
          "execution_count": 71
        }
      ]
    },
    {
      "cell_type": "code",
      "source": [
        "int_32_tensor * float_32_tensor"
      ],
      "metadata": {
        "colab": {
          "base_uri": "https://localhost:8080/"
        },
        "id": "kfEr7M58JXE_",
        "outputId": "47aafed0-a63d-4ede-9ca8-b2e35d53ef74"
      },
      "execution_count": null,
      "outputs": [
        {
          "output_type": "execute_result",
          "data": {
            "text/plain": [
              "tensor([ 9.3000, 26.0000, 55.2000])"
            ]
          },
          "metadata": {},
          "execution_count": 72
        }
      ]
    },
    {
      "cell_type": "markdown",
      "source": [
        "### Tensor Operations\n",
        "\n",
        "Ternsor Operations include:\n",
        "- Addition\n",
        "- Substraction\n",
        "- Multiplication\n",
        "- Division\n",
        "- Matrix Multiplication\n"
      ],
      "metadata": {
        "id": "NaxquSOBL7IG"
      }
    },
    {
      "cell_type": "code",
      "source": [
        "## Create A Tensor\n",
        "my_tensor = torch.tensor([1,2,3])\n",
        "\n",
        "my_tensor + 10"
      ],
      "metadata": {
        "colab": {
          "base_uri": "https://localhost:8080/"
        },
        "id": "ryRQS4kNMKfe",
        "outputId": "9d382d3b-2e60-4f06-daf0-f2f62808479c"
      },
      "execution_count": null,
      "outputs": [
        {
          "output_type": "execute_result",
          "data": {
            "text/plain": [
              "tensor([11, 12, 13])"
            ]
          },
          "metadata": {},
          "execution_count": 73
        }
      ]
    },
    {
      "cell_type": "code",
      "source": [
        "# Multiply a Tensor by 10\n",
        "\n",
        "my_tensor * 10"
      ],
      "metadata": {
        "colab": {
          "base_uri": "https://localhost:8080/"
        },
        "id": "pyAtV8oUM4dy",
        "outputId": "9396dc3a-762e-4ddc-9aa1-41d5b30faab2"
      },
      "execution_count": null,
      "outputs": [
        {
          "output_type": "execute_result",
          "data": {
            "text/plain": [
              "tensor([10, 20, 30])"
            ]
          },
          "metadata": {},
          "execution_count": 74
        }
      ]
    },
    {
      "cell_type": "code",
      "source": [
        "# Subtract Tensor\n",
        "\n",
        "my_tensor - 10"
      ],
      "metadata": {
        "id": "B_YC27IBNSco",
        "outputId": "df750d30-6c4a-4f43-e67e-86a5cb096091",
        "colab": {
          "base_uri": "https://localhost:8080/"
        }
      },
      "execution_count": null,
      "outputs": [
        {
          "output_type": "execute_result",
          "data": {
            "text/plain": [
              "tensor([-9, -8, -7])"
            ]
          },
          "metadata": {},
          "execution_count": 75
        }
      ]
    },
    {
      "cell_type": "markdown",
      "source": [
        "## Matrix Multiplication\n",
        "\n",
        "two rules should be applied:\n",
        "\n",
        "1- inner dimension should be same\n",
        "2- output shape will be like outer shapes"
      ],
      "metadata": {
        "id": "cOmwQfoBl9xo"
      }
    },
    {
      "cell_type": "code",
      "source": [
        "tensor_A = torch.tensor([[1,2,3], [4,5,6], [7,8,9]], dtype=torch.float32)\n",
        "tensor_B = torch.rand(size=(3,3))\n",
        "\n",
        "print(tensor_A.dtype)\n",
        "print(tensor_B.dtype)\n",
        "\n",
        "torch.matmul(tensor_A, tensor_B)\n",
        "\n"
      ],
      "metadata": {
        "colab": {
          "base_uri": "https://localhost:8080/"
        },
        "id": "Z4eTEf4UmiPb",
        "outputId": "e647e711-93fb-463e-cfef-acdfb83385a8"
      },
      "execution_count": null,
      "outputs": [
        {
          "output_type": "stream",
          "name": "stdout",
          "text": [
            "torch.float32\n",
            "torch.float32\n"
          ]
        },
        {
          "output_type": "execute_result",
          "data": {
            "text/plain": [
              "tensor([[ 1.2789,  1.8234,  3.8045],\n",
              "        [ 4.3429,  4.8717, 10.3064],\n",
              "        [ 7.4069,  7.9200, 16.8083]])"
            ]
          },
          "metadata": {},
          "execution_count": 76
        }
      ]
    },
    {
      "cell_type": "markdown",
      "source": [
        "## Find Tensor Min, Max, Mean, Sum, (etc.)\n"
      ],
      "metadata": {
        "id": "5ul4UaPBneQZ"
      }
    },
    {
      "cell_type": "code",
      "source": [
        "tensor = torch.arange(0,100,10)\n",
        "tensor"
      ],
      "metadata": {
        "colab": {
          "base_uri": "https://localhost:8080/"
        },
        "id": "RG6FOsV4n7v5",
        "outputId": "98740ca9-9a0c-4403-a5db-ea6c42c4afbb"
      },
      "execution_count": null,
      "outputs": [
        {
          "output_type": "execute_result",
          "data": {
            "text/plain": [
              "tensor([ 0, 10, 20, 30, 40, 50, 60, 70, 80, 90])"
            ]
          },
          "metadata": {},
          "execution_count": 77
        }
      ]
    },
    {
      "cell_type": "code",
      "source": [
        "# Find min\n",
        "\n",
        "tensor.min(), torch.min(tensor)"
      ],
      "metadata": {
        "colab": {
          "base_uri": "https://localhost:8080/"
        },
        "id": "9zI3wKspoMRy",
        "outputId": "a6a34ff5-01df-42b2-c1e3-ba0a9f494cb7"
      },
      "execution_count": null,
      "outputs": [
        {
          "output_type": "execute_result",
          "data": {
            "text/plain": [
              "(tensor(0), tensor(0))"
            ]
          },
          "metadata": {},
          "execution_count": 78
        }
      ]
    },
    {
      "cell_type": "code",
      "source": [
        "# Find Max\n",
        "\n",
        "tensor.max(), torch.max(tensor)"
      ],
      "metadata": {
        "colab": {
          "base_uri": "https://localhost:8080/"
        },
        "id": "B5xM7klxoX44",
        "outputId": "7976bcf2-1c41-4ee2-fc1f-83d8de7c0a9d"
      },
      "execution_count": null,
      "outputs": [
        {
          "output_type": "execute_result",
          "data": {
            "text/plain": [
              "(tensor(90), tensor(90))"
            ]
          },
          "metadata": {},
          "execution_count": 79
        }
      ]
    },
    {
      "cell_type": "code",
      "source": [
        "# Find Mean\n",
        "\n",
        "tensor.type(torch.float32).mean(), torch.mean(tensor.type(torch.float32))"
      ],
      "metadata": {
        "colab": {
          "base_uri": "https://localhost:8080/"
        },
        "id": "XNTp0hJDoboI",
        "outputId": "051c0e4f-1b10-45f7-c593-de53d9972efe"
      },
      "execution_count": null,
      "outputs": [
        {
          "output_type": "execute_result",
          "data": {
            "text/plain": [
              "(tensor(45.), tensor(45.))"
            ]
          },
          "metadata": {},
          "execution_count": 80
        }
      ]
    },
    {
      "cell_type": "code",
      "source": [
        "# Find Sum\n",
        "\n",
        "tensor.sum(), torch.sum(tensor)"
      ],
      "metadata": {
        "colab": {
          "base_uri": "https://localhost:8080/"
        },
        "id": "DyuPISCOosme",
        "outputId": "bae6440a-4a87-486f-83e1-e527ed54bbf1"
      },
      "execution_count": null,
      "outputs": [
        {
          "output_type": "execute_result",
          "data": {
            "text/plain": [
              "(tensor(450), tensor(450))"
            ]
          },
          "metadata": {},
          "execution_count": 81
        }
      ]
    },
    {
      "cell_type": "markdown",
      "source": [
        "## Finding the positional min and max"
      ],
      "metadata": {
        "id": "4wJh9CD5pMOG"
      }
    },
    {
      "cell_type": "code",
      "source": [
        "# find minimum value index\n",
        "\n",
        "tensor.argmin(), torch.argmin(tensor)"
      ],
      "metadata": {
        "colab": {
          "base_uri": "https://localhost:8080/"
        },
        "id": "Wp1UY_ylqJZU",
        "outputId": "aed540d1-75d0-43df-b487-96223e5bd267"
      },
      "execution_count": null,
      "outputs": [
        {
          "output_type": "execute_result",
          "data": {
            "text/plain": [
              "(tensor(0), tensor(0))"
            ]
          },
          "metadata": {},
          "execution_count": 82
        }
      ]
    },
    {
      "cell_type": "code",
      "source": [
        "# find maximum value index\n",
        "\n",
        "tensor.argmax(), torch.argmax(tensor)"
      ],
      "metadata": {
        "colab": {
          "base_uri": "https://localhost:8080/"
        },
        "id": "8ewb193fqSTL",
        "outputId": "aa3c6478-a67f-487e-94ec-0f97e4c53aec"
      },
      "execution_count": null,
      "outputs": [
        {
          "output_type": "execute_result",
          "data": {
            "text/plain": [
              "(tensor(9), tensor(9))"
            ]
          },
          "metadata": {},
          "execution_count": 83
        }
      ]
    },
    {
      "cell_type": "markdown",
      "source": [
        "# Reshaping, stacking, squeezing and unsqueezing\n",
        "\n",
        "* reshaping - reshapes an input tensor to a defined shape\n",
        "* viewing - Return a view of an input tensor of certain shape but keep the same memory as the original tensor\n",
        "* stacking - combine multiple tensors into a single tensor (vstack) and (hstack)\n",
        "* squeezing - remove all `1` dimensions from a tensor\n",
        "* unsqueezing - add  a `1` dimension to a tensor\n",
        "* Permute - Return a view of the input with dimensions permuted(swapped) in a certain way.\n"
      ],
      "metadata": {
        "id": "rhAl391JqmUP"
      }
    },
    {
      "cell_type": "code",
      "source": [
        "x = torch.arange(1,10)\n",
        "\n",
        "x, x.shape"
      ],
      "metadata": {
        "colab": {
          "base_uri": "https://localhost:8080/"
        },
        "id": "4CW711PurLVP",
        "outputId": "1999cd57-582b-4aa6-ee32-d6ccbad27894"
      },
      "execution_count": null,
      "outputs": [
        {
          "output_type": "execute_result",
          "data": {
            "text/plain": [
              "(tensor([1, 2, 3, 4, 5, 6, 7, 8, 9]), torch.Size([9]))"
            ]
          },
          "metadata": {},
          "execution_count": 85
        }
      ]
    },
    {
      "cell_type": "code",
      "source": [
        "x.reshape(9,1), x.reshape(9,1).shape"
      ],
      "metadata": {
        "colab": {
          "base_uri": "https://localhost:8080/"
        },
        "id": "jAYQFQilsVyZ",
        "outputId": "cf30d534-a03b-45a8-dfc3-62213f2ad7af"
      },
      "execution_count": null,
      "outputs": [
        {
          "output_type": "execute_result",
          "data": {
            "text/plain": [
              "(tensor([[1],\n",
              "         [2],\n",
              "         [3],\n",
              "         [4],\n",
              "         [5],\n",
              "         [6],\n",
              "         [7],\n",
              "         [8],\n",
              "         [9]]),\n",
              " torch.Size([9, 1]))"
            ]
          },
          "metadata": {},
          "execution_count": 90
        }
      ]
    },
    {
      "cell_type": "code",
      "source": [
        "x[0]"
      ],
      "metadata": {
        "colab": {
          "base_uri": "https://localhost:8080/"
        },
        "id": "ophd-af3stJ1",
        "outputId": "2c683d2a-ab87-42e5-f666-3197fe251a87"
      },
      "execution_count": null,
      "outputs": [
        {
          "output_type": "execute_result",
          "data": {
            "text/plain": [
              "tensor(1)"
            ]
          },
          "metadata": {},
          "execution_count": 91
        }
      ]
    },
    {
      "cell_type": "code",
      "source": [
        "# Change the view of the tensor\n",
        "# Changing z will also change x because they share the same memory\n",
        "z = x.view(3,3)\n",
        "z"
      ],
      "metadata": {
        "colab": {
          "base_uri": "https://localhost:8080/"
        },
        "id": "tDbSDS9FszV1",
        "outputId": "40684027-7197-456d-d7af-3e27f86763e4"
      },
      "execution_count": null,
      "outputs": [
        {
          "output_type": "execute_result",
          "data": {
            "text/plain": [
              "tensor([[1, 2, 3],\n",
              "        [4, 5, 6],\n",
              "        [7, 8, 9]])"
            ]
          },
          "metadata": {},
          "execution_count": 95
        }
      ]
    },
    {
      "cell_type": "code",
      "source": [
        "# Stack tensors\n",
        "\n",
        "x_stacked = torch.stack([x,x,x,x])\n",
        "x_stacked"
      ],
      "metadata": {
        "colab": {
          "base_uri": "https://localhost:8080/"
        },
        "id": "jRUrvfN6ttls",
        "outputId": "0c671ca3-cccb-4b9b-a042-e2c5e5012ae5"
      },
      "execution_count": null,
      "outputs": [
        {
          "output_type": "execute_result",
          "data": {
            "text/plain": [
              "tensor([[1, 2, 3, 4, 5, 6, 7, 8, 9],\n",
              "        [1, 2, 3, 4, 5, 6, 7, 8, 9],\n",
              "        [1, 2, 3, 4, 5, 6, 7, 8, 9],\n",
              "        [1, 2, 3, 4, 5, 6, 7, 8, 9]])"
            ]
          },
          "metadata": {},
          "execution_count": 97
        }
      ]
    },
    {
      "cell_type": "code",
      "source": [
        "x_stacked.squeeze()"
      ],
      "metadata": {
        "colab": {
          "base_uri": "https://localhost:8080/"
        },
        "id": "Ey61yK4wuKtl",
        "outputId": "4169cc48-bc57-4da2-dd00-0f8d931b3d8e"
      },
      "execution_count": null,
      "outputs": [
        {
          "output_type": "execute_result",
          "data": {
            "text/plain": [
              "tensor([[1, 2, 3, 4, 5, 6, 7, 8, 9],\n",
              "        [1, 2, 3, 4, 5, 6, 7, 8, 9],\n",
              "        [1, 2, 3, 4, 5, 6, 7, 8, 9],\n",
              "        [1, 2, 3, 4, 5, 6, 7, 8, 9]])"
            ]
          },
          "metadata": {},
          "execution_count": 98
        }
      ]
    },
    {
      "cell_type": "code",
      "source": [
        "x.squeeze()"
      ],
      "metadata": {
        "colab": {
          "base_uri": "https://localhost:8080/"
        },
        "id": "RnQif-gJuhlT",
        "outputId": "6b7d42a0-94a2-4e49-f02c-a2e94adc9f71"
      },
      "execution_count": null,
      "outputs": [
        {
          "output_type": "execute_result",
          "data": {
            "text/plain": [
              "tensor([1, 2, 3, 4, 5, 6, 7, 8, 9])"
            ]
          },
          "metadata": {},
          "execution_count": 99
        }
      ]
    },
    {
      "cell_type": "code",
      "source": [
        "x_reshaped = x.reshape(1,9)\n",
        "x_reshaped, x_reshaped.shape\n"
      ],
      "metadata": {
        "colab": {
          "base_uri": "https://localhost:8080/"
        },
        "id": "opSyiCGhulhe",
        "outputId": "2db13b59-2c8c-4185-c794-62330fb896a8"
      },
      "execution_count": null,
      "outputs": [
        {
          "output_type": "execute_result",
          "data": {
            "text/plain": [
              "(tensor([[1, 2, 3, 4, 5, 6, 7, 8, 9]]), torch.Size([1, 9]))"
            ]
          },
          "metadata": {},
          "execution_count": 107
        }
      ]
    },
    {
      "cell_type": "code",
      "source": [
        "print(x_reshaped.squeeze())\n",
        "x_reshaped.squeeze().shape"
      ],
      "metadata": {
        "colab": {
          "base_uri": "https://localhost:8080/"
        },
        "id": "pKhHavlUu9nJ",
        "outputId": "bb415811-e239-47b1-f2b7-ca46193930f2"
      },
      "execution_count": null,
      "outputs": [
        {
          "output_type": "stream",
          "name": "stdout",
          "text": [
            "tensor([1, 2, 3, 4, 5, 6, 7, 8, 9])\n"
          ]
        },
        {
          "output_type": "execute_result",
          "data": {
            "text/plain": [
              "torch.Size([9])"
            ]
          },
          "metadata": {},
          "execution_count": 103
        }
      ]
    },
    {
      "cell_type": "code",
      "source": [
        "x_reshaped.squeeze()[0]"
      ],
      "metadata": {
        "colab": {
          "base_uri": "https://localhost:8080/"
        },
        "id": "eklLnOVtvG-O",
        "outputId": "3cf0eefd-9575-4dd7-c18d-f3e85ac2dfd5"
      },
      "execution_count": null,
      "outputs": [
        {
          "output_type": "execute_result",
          "data": {
            "text/plain": [
              "tensor(1)"
            ]
          },
          "metadata": {},
          "execution_count": 104
        }
      ]
    },
    {
      "cell_type": "code",
      "source": [
        "# Unsqueeze a tensor\n",
        "\n",
        "print(f\"Previous Tensor: {x.squeeze()}\")\n",
        "print(f\"Previous Tensor Shape: {x.squeeze().shape}\")\n",
        "\n",
        "print(\"=========================\")\n",
        "\n",
        "print(f\"New Tensor: {x.squeeze().unsqueeze(dim=0)}\")\n",
        "print(f\"New Tensor Shape: {x.squeeze().unsqueeze(dim=0).shape}\")\n"
      ],
      "metadata": {
        "colab": {
          "base_uri": "https://localhost:8080/"
        },
        "id": "PJHmrVQavQZr",
        "outputId": "67a791a0-c59a-4322-913d-17b0e4756de0"
      },
      "execution_count": null,
      "outputs": [
        {
          "output_type": "stream",
          "name": "stdout",
          "text": [
            "Previous Tensor: tensor([1, 2, 3, 4, 5, 6, 7, 8, 9])\n",
            "Previous Tensor Shape: torch.Size([9])\n",
            "=========================\n",
            "New Tensor: tensor([[1, 2, 3, 4, 5, 6, 7, 8, 9]])\n",
            "New Tensor Shape: torch.Size([1, 9])\n"
          ]
        }
      ]
    },
    {
      "cell_type": "code",
      "source": [
        "# Torch.permute\n",
        "\n",
        "x_original = torch.rand(size=(244,244,3))\n",
        "print(x_original)\n",
        "\n",
        "x_permuted = x_original.permute(2,0,1)\n",
        "x_permuted"
      ],
      "metadata": {
        "colab": {
          "base_uri": "https://localhost:8080/"
        },
        "id": "iAai6qBUwIsB",
        "outputId": "ea3e2cfd-1ac2-428f-8dc2-58d2b29746fc"
      },
      "execution_count": null,
      "outputs": [
        {
          "output_type": "stream",
          "name": "stdout",
          "text": [
            "tensor([[[0.6321, 0.1634, 0.7054],\n",
            "         [0.1857, 0.9549, 0.1437],\n",
            "         [0.0735, 0.8369, 0.8626],\n",
            "         ...,\n",
            "         [0.1756, 0.8007, 0.7835],\n",
            "         [0.5489, 0.9044, 0.7568],\n",
            "         [0.9374, 0.6798, 0.8040]],\n",
            "\n",
            "        [[0.6444, 0.4382, 0.6126],\n",
            "         [0.3332, 0.8217, 0.6698],\n",
            "         [0.1389, 0.4193, 0.6065],\n",
            "         ...,\n",
            "         [0.1038, 0.7698, 0.6362],\n",
            "         [0.7501, 0.6613, 0.0112],\n",
            "         [0.0749, 0.5969, 0.9207]],\n",
            "\n",
            "        [[0.7891, 0.8895, 0.0891],\n",
            "         [0.9283, 0.5905, 0.6979],\n",
            "         [0.5310, 0.4096, 0.2374],\n",
            "         ...,\n",
            "         [0.6343, 0.4437, 0.1663],\n",
            "         [0.7528, 0.5142, 0.5272],\n",
            "         [0.8935, 0.9322, 0.5796]],\n",
            "\n",
            "        ...,\n",
            "\n",
            "        [[0.1544, 0.2369, 0.3546],\n",
            "         [0.6674, 0.7363, 0.7373],\n",
            "         [0.8343, 0.5833, 0.1160],\n",
            "         ...,\n",
            "         [0.0808, 0.2375, 0.3084],\n",
            "         [0.6060, 0.7683, 0.9458],\n",
            "         [0.1185, 0.8456, 0.3830]],\n",
            "\n",
            "        [[0.6947, 0.9654, 0.9695],\n",
            "         [0.2379, 0.5416, 0.8482],\n",
            "         [0.8492, 0.1294, 0.7732],\n",
            "         ...,\n",
            "         [0.5232, 0.5230, 0.3124],\n",
            "         [0.8909, 0.9644, 0.9713],\n",
            "         [0.6698, 0.8961, 0.7148]],\n",
            "\n",
            "        [[0.7509, 0.2960, 0.7413],\n",
            "         [0.8080, 0.5311, 0.4756],\n",
            "         [0.3884, 0.4948, 0.1318],\n",
            "         ...,\n",
            "         [0.6769, 0.7362, 0.6309],\n",
            "         [0.6691, 0.9958, 0.3663],\n",
            "         [0.7014, 0.9631, 0.0711]]])\n"
          ]
        },
        {
          "output_type": "execute_result",
          "data": {
            "text/plain": [
              "tensor([[[0.6321, 0.1857, 0.0735,  ..., 0.1756, 0.5489, 0.9374],\n",
              "         [0.6444, 0.3332, 0.1389,  ..., 0.1038, 0.7501, 0.0749],\n",
              "         [0.7891, 0.9283, 0.5310,  ..., 0.6343, 0.7528, 0.8935],\n",
              "         ...,\n",
              "         [0.1544, 0.6674, 0.8343,  ..., 0.0808, 0.6060, 0.1185],\n",
              "         [0.6947, 0.2379, 0.8492,  ..., 0.5232, 0.8909, 0.6698],\n",
              "         [0.7509, 0.8080, 0.3884,  ..., 0.6769, 0.6691, 0.7014]],\n",
              "\n",
              "        [[0.1634, 0.9549, 0.8369,  ..., 0.8007, 0.9044, 0.6798],\n",
              "         [0.4382, 0.8217, 0.4193,  ..., 0.7698, 0.6613, 0.5969],\n",
              "         [0.8895, 0.5905, 0.4096,  ..., 0.4437, 0.5142, 0.9322],\n",
              "         ...,\n",
              "         [0.2369, 0.7363, 0.5833,  ..., 0.2375, 0.7683, 0.8456],\n",
              "         [0.9654, 0.5416, 0.1294,  ..., 0.5230, 0.9644, 0.8961],\n",
              "         [0.2960, 0.5311, 0.4948,  ..., 0.7362, 0.9958, 0.9631]],\n",
              "\n",
              "        [[0.7054, 0.1437, 0.8626,  ..., 0.7835, 0.7568, 0.8040],\n",
              "         [0.6126, 0.6698, 0.6065,  ..., 0.6362, 0.0112, 0.9207],\n",
              "         [0.0891, 0.6979, 0.2374,  ..., 0.1663, 0.5272, 0.5796],\n",
              "         ...,\n",
              "         [0.3546, 0.7373, 0.1160,  ..., 0.3084, 0.9458, 0.3830],\n",
              "         [0.9695, 0.8482, 0.7732,  ..., 0.3124, 0.9713, 0.7148],\n",
              "         [0.7413, 0.4756, 0.1318,  ..., 0.6309, 0.3663, 0.0711]]])"
            ]
          },
          "metadata": {},
          "execution_count": 112
        }
      ]
    },
    {
      "cell_type": "markdown",
      "source": [
        "## Indexing: Select data from a tensor"
      ],
      "metadata": {
        "id": "1WCEfgj3w2j_"
      }
    },
    {
      "cell_type": "code",
      "source": [
        "x = torch.arange(1,10)\n",
        "\n",
        "\n",
        "x_reshaped = x.reshape(1,3,3)\n",
        "\n",
        "x_reshaped"
      ],
      "metadata": {
        "colab": {
          "base_uri": "https://localhost:8080/"
        },
        "id": "ucAz0geE1KQ3",
        "outputId": "618497c0-0475-4f76-a017-11c73820d30c"
      },
      "execution_count": null,
      "outputs": [
        {
          "output_type": "execute_result",
          "data": {
            "text/plain": [
              "tensor([[[1, 2, 3],\n",
              "         [4, 5, 6],\n",
              "         [7, 8, 9]]])"
            ]
          },
          "metadata": {},
          "execution_count": 118
        }
      ]
    },
    {
      "cell_type": "code",
      "source": [
        "x_reshaped[0]"
      ],
      "metadata": {
        "colab": {
          "base_uri": "https://localhost:8080/"
        },
        "id": "kmVp_lX31Rt-",
        "outputId": "03658a5a-df71-4516-8fcf-52502ddd0386"
      },
      "execution_count": null,
      "outputs": [
        {
          "output_type": "execute_result",
          "data": {
            "text/plain": [
              "tensor([[1, 2, 3],\n",
              "        [4, 5, 6],\n",
              "        [7, 8, 9]])"
            ]
          },
          "metadata": {},
          "execution_count": 117
        }
      ]
    },
    {
      "cell_type": "code",
      "source": [
        "x_reshaped[0][0]"
      ],
      "metadata": {
        "colab": {
          "base_uri": "https://localhost:8080/"
        },
        "id": "oXO64nIP1lwR",
        "outputId": "378ac376-d25f-4545-f208-da99d20da07d"
      },
      "execution_count": null,
      "outputs": [
        {
          "output_type": "execute_result",
          "data": {
            "text/plain": [
              "tensor([1, 2, 3])"
            ]
          },
          "metadata": {},
          "execution_count": 119
        }
      ]
    },
    {
      "cell_type": "code",
      "source": [
        "x_reshaped[0][0][0]"
      ],
      "metadata": {
        "colab": {
          "base_uri": "https://localhost:8080/"
        },
        "id": "fbc1rQX21pWW",
        "outputId": "62034ddf-26b1-4c6d-8265-a9aa34627996"
      },
      "execution_count": null,
      "outputs": [
        {
          "output_type": "execute_result",
          "data": {
            "text/plain": [
              "tensor(1)"
            ]
          },
          "metadata": {},
          "execution_count": 121
        }
      ]
    },
    {
      "cell_type": "code",
      "source": [
        "# You can use \":\" to select \"all\" of  a target dimension\n",
        "\n",
        "x_reshaped[:,:,0]"
      ],
      "metadata": {
        "colab": {
          "base_uri": "https://localhost:8080/"
        },
        "id": "mYTArlRX1qHc",
        "outputId": "f0b1f664-a3c0-41b5-85da-114d77949756"
      },
      "execution_count": null,
      "outputs": [
        {
          "output_type": "execute_result",
          "data": {
            "text/plain": [
              "tensor([[1, 4, 7]])"
            ]
          },
          "metadata": {},
          "execution_count": 128
        }
      ]
    },
    {
      "cell_type": "code",
      "source": [
        "def fib()"
      ],
      "metadata": {
        "id": "_wwrZ0P-197x"
      },
      "execution_count": null,
      "outputs": []
    }
  ]
}