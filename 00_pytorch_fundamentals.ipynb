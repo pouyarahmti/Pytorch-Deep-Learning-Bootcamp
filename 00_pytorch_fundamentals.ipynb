{
  "nbformat": 4,
  "nbformat_minor": 0,
  "metadata": {
    "colab": {
      "provenance": [],
      "authorship_tag": "ABX9TyOaerFYqLU2nuBVguwlYYyH",
      "include_colab_link": true
    },
    "kernelspec": {
      "name": "python3",
      "display_name": "Python 3"
    },
    "language_info": {
      "name": "python"
    }
  },
  "cells": [
    {
      "cell_type": "markdown",
      "metadata": {
        "id": "view-in-github",
        "colab_type": "text"
      },
      "source": [
        "<a href=\"https://colab.research.google.com/github/pouyarahmti/Pytorch-Deep-Learning-Bootcamp/blob/main/00_pytorch_fundamentals.ipynb\" target=\"_parent\"><img src=\"https://colab.research.google.com/assets/colab-badge.svg\" alt=\"Open In Colab\"/></a>"
      ]
    },
    {
      "cell_type": "markdown",
      "source": [
        "## 00.PyTorch Fundamentals\n"
      ],
      "metadata": {
        "id": "8Za8fZZRPw3Z"
      }
    },
    {
      "cell_type": "code",
      "source": [
        "import torch\n",
        "import matplotlib.pyplot as plt\n",
        "import numpy as np\n",
        "import pandas as pd\n",
        "\n",
        "print(torch.__version__)"
      ],
      "metadata": {
        "id": "cbq6i-OxbJBJ",
        "colab": {
          "base_uri": "https://localhost:8080/"
        },
        "outputId": "c2273384-5985-40fc-d285-9a1bf1a6000c"
      },
      "execution_count": 59,
      "outputs": [
        {
          "output_type": "stream",
          "name": "stdout",
          "text": [
            "2.2.1+cu121\n"
          ]
        }
      ]
    },
    {
      "cell_type": "markdown",
      "source": [
        "# Introduction to Tensors"
      ],
      "metadata": {
        "id": "4sUOZCis2S0a"
      }
    },
    {
      "cell_type": "markdown",
      "source": [
        "### Creating Tensors\n",
        "\n",
        " pytorch tensors are created using `torch.tensor()`"
      ],
      "metadata": {
        "id": "PwmbxA4z2dhm"
      }
    },
    {
      "cell_type": "code",
      "source": [
        "# Scalar Tensor\n",
        "\n",
        "scalar = torch.tensor(7)\n",
        "scalar"
      ],
      "metadata": {
        "colab": {
          "base_uri": "https://localhost:8080/"
        },
        "id": "qVA4-IbpYGzP",
        "outputId": "f92c18bf-4e54-4abd-ad5b-5eed0da25376"
      },
      "execution_count": 60,
      "outputs": [
        {
          "output_type": "execute_result",
          "data": {
            "text/plain": [
              "tensor(7)"
            ]
          },
          "metadata": {},
          "execution_count": 60
        }
      ]
    },
    {
      "cell_type": "code",
      "source": [
        "scalar.ndim"
      ],
      "metadata": {
        "colab": {
          "base_uri": "https://localhost:8080/"
        },
        "id": "W7_Fo_WNauD1",
        "outputId": "828a999b-44b9-4344-bcf8-ec62da3d163d"
      },
      "execution_count": 61,
      "outputs": [
        {
          "output_type": "execute_result",
          "data": {
            "text/plain": [
              "0"
            ]
          },
          "metadata": {},
          "execution_count": 61
        }
      ]
    },
    {
      "cell_type": "code",
      "source": [
        "# Get tensor back as python int\n",
        "scalar.item()"
      ],
      "metadata": {
        "id": "A15AYjYHcH9J",
        "colab": {
          "base_uri": "https://localhost:8080/"
        },
        "outputId": "880acde4-1f0f-45cb-f838-01eed389cddd"
      },
      "execution_count": 62,
      "outputs": [
        {
          "output_type": "execute_result",
          "data": {
            "text/plain": [
              "7"
            ]
          },
          "metadata": {},
          "execution_count": 62
        }
      ]
    },
    {
      "cell_type": "code",
      "source": [
        "# Vector\n",
        "\n",
        "vector = torch.tensor([7,7])\n",
        "vector"
      ],
      "metadata": {
        "colab": {
          "base_uri": "https://localhost:8080/"
        },
        "id": "TRu_4UlQcKWE",
        "outputId": "7b58c47d-d42f-48c8-b224-8e729231e04b"
      },
      "execution_count": 63,
      "outputs": [
        {
          "output_type": "execute_result",
          "data": {
            "text/plain": [
              "tensor([7, 7])"
            ]
          },
          "metadata": {},
          "execution_count": 63
        }
      ]
    },
    {
      "cell_type": "code",
      "source": [
        "vector.ndim"
      ],
      "metadata": {
        "colab": {
          "base_uri": "https://localhost:8080/"
        },
        "id": "avvYGzrhcZyU",
        "outputId": "5f8cfd6b-75cc-4a9a-b17c-e7adea462e61"
      },
      "execution_count": 64,
      "outputs": [
        {
          "output_type": "execute_result",
          "data": {
            "text/plain": [
              "1"
            ]
          },
          "metadata": {},
          "execution_count": 64
        }
      ]
    },
    {
      "cell_type": "code",
      "source": [
        "vector.shape"
      ],
      "metadata": {
        "colab": {
          "base_uri": "https://localhost:8080/"
        },
        "id": "ZfWsgExgccji",
        "outputId": "28071619-b68e-41fc-efbd-87cd467447e2"
      },
      "execution_count": 65,
      "outputs": [
        {
          "output_type": "execute_result",
          "data": {
            "text/plain": [
              "torch.Size([2])"
            ]
          },
          "metadata": {},
          "execution_count": 65
        }
      ]
    },
    {
      "cell_type": "code",
      "source": [
        "# MATRIX\n",
        "\n",
        "MATRIX = torch.tensor([[7, 3], [8, 3] ])\n",
        "MATRIX"
      ],
      "metadata": {
        "colab": {
          "base_uri": "https://localhost:8080/"
        },
        "id": "JzseTZepcrpX",
        "outputId": "102d2c3c-ddc1-44ec-beba-b0053660c3bb"
      },
      "execution_count": 66,
      "outputs": [
        {
          "output_type": "execute_result",
          "data": {
            "text/plain": [
              "tensor([[7, 3],\n",
              "        [8, 3]])"
            ]
          },
          "metadata": {},
          "execution_count": 66
        }
      ]
    },
    {
      "cell_type": "code",
      "source": [
        "MATRIX.ndim"
      ],
      "metadata": {
        "colab": {
          "base_uri": "https://localhost:8080/"
        },
        "id": "1bZJ4z1Wc7Am",
        "outputId": "98435a68-bb51-4cc8-fc92-92e666d48500"
      },
      "execution_count": 67,
      "outputs": [
        {
          "output_type": "execute_result",
          "data": {
            "text/plain": [
              "2"
            ]
          },
          "metadata": {},
          "execution_count": 67
        }
      ]
    },
    {
      "cell_type": "code",
      "source": [
        "MATRIX[0][0].item()"
      ],
      "metadata": {
        "colab": {
          "base_uri": "https://localhost:8080/"
        },
        "id": "QJOeGP0hc9kU",
        "outputId": "cba45b66-6927-4e19-b314-f5a3945a1876"
      },
      "execution_count": 68,
      "outputs": [
        {
          "output_type": "execute_result",
          "data": {
            "text/plain": [
              "7"
            ]
          },
          "metadata": {},
          "execution_count": 68
        }
      ]
    },
    {
      "cell_type": "code",
      "source": [
        "MATRIX.shape"
      ],
      "metadata": {
        "colab": {
          "base_uri": "https://localhost:8080/"
        },
        "id": "jhzVFC6LdDEW",
        "outputId": "e96aa659-e3bc-4790-ab2f-27db1290e80f"
      },
      "execution_count": 69,
      "outputs": [
        {
          "output_type": "execute_result",
          "data": {
            "text/plain": [
              "torch.Size([2, 2])"
            ]
          },
          "metadata": {},
          "execution_count": 69
        }
      ]
    },
    {
      "cell_type": "code",
      "source": [
        "#TENSOR\n",
        "\n",
        "TENSOR = torch.tensor([[[1,2], [3,4], [5,5]], [[1,2], [3,4], [5,5]]])\n",
        "\n",
        "print(TENSOR)\n",
        "\n",
        "TENSOR.size()"
      ],
      "metadata": {
        "colab": {
          "base_uri": "https://localhost:8080/"
        },
        "id": "p91AgZxsdxIy",
        "outputId": "f4bc22e7-a29d-4a17-c247-ee0f50872e34"
      },
      "execution_count": 70,
      "outputs": [
        {
          "output_type": "stream",
          "name": "stdout",
          "text": [
            "tensor([[[1, 2],\n",
            "         [3, 4],\n",
            "         [5, 5]],\n",
            "\n",
            "        [[1, 2],\n",
            "         [3, 4],\n",
            "         [5, 5]]])\n"
          ]
        },
        {
          "output_type": "execute_result",
          "data": {
            "text/plain": [
              "torch.Size([2, 3, 2])"
            ]
          },
          "metadata": {},
          "execution_count": 70
        }
      ]
    },
    {
      "cell_type": "code",
      "source": [
        "TENSOR.ndim"
      ],
      "metadata": {
        "colab": {
          "base_uri": "https://localhost:8080/"
        },
        "id": "23b5HbSI5H4H",
        "outputId": "adc7fb7c-df55-4dfe-d53d-1e3a355a5aa7"
      },
      "execution_count": 71,
      "outputs": [
        {
          "output_type": "execute_result",
          "data": {
            "text/plain": [
              "3"
            ]
          },
          "metadata": {},
          "execution_count": 71
        }
      ]
    },
    {
      "cell_type": "markdown",
      "source": [
        "### Random tensors"
      ],
      "metadata": {
        "id": "VKMWwJCPkRys"
      }
    },
    {
      "cell_type": "code",
      "source": [
        " # Create random tensor\n",
        "\n",
        "random_tensor = torch.rand(3,4)\n",
        "random_tensor"
      ],
      "metadata": {
        "colab": {
          "base_uri": "https://localhost:8080/"
        },
        "id": "B2f7XxHvkWOx",
        "outputId": "be005c7d-c4aa-4eec-cfee-0aafa6c02470"
      },
      "execution_count": 72,
      "outputs": [
        {
          "output_type": "execute_result",
          "data": {
            "text/plain": [
              "tensor([[0.8328, 0.1859, 0.7255, 0.9999],\n",
              "        [0.4362, 0.4740, 0.4294, 0.5360],\n",
              "        [0.5022, 0.8390, 0.7010, 0.5882]])"
            ]
          },
          "metadata": {},
          "execution_count": 72
        }
      ]
    },
    {
      "cell_type": "code",
      "source": [
        "random_tensor.shape"
      ],
      "metadata": {
        "colab": {
          "base_uri": "https://localhost:8080/"
        },
        "id": "a9FiCxy_lQrB",
        "outputId": "6ab0d33b-7b74-43de-9a37-6793cf07fca5"
      },
      "execution_count": 73,
      "outputs": [
        {
          "output_type": "execute_result",
          "data": {
            "text/plain": [
              "torch.Size([3, 4])"
            ]
          },
          "metadata": {},
          "execution_count": 73
        }
      ]
    },
    {
      "cell_type": "code",
      "source": [
        "random_tensor.ndim"
      ],
      "metadata": {
        "colab": {
          "base_uri": "https://localhost:8080/"
        },
        "id": "EKYFetA97JIK",
        "outputId": "4b6eeb3a-2f30-4d52-bf11-1d2fd8a33263"
      },
      "execution_count": 74,
      "outputs": [
        {
          "output_type": "execute_result",
          "data": {
            "text/plain": [
              "2"
            ]
          },
          "metadata": {},
          "execution_count": 74
        }
      ]
    },
    {
      "cell_type": "code",
      "source": [
        "random_image_size_tensor = torch.rand(size=(224,244,3))\n",
        "random_image_size_tensor.size()"
      ],
      "metadata": {
        "colab": {
          "base_uri": "https://localhost:8080/"
        },
        "id": "yJLVCE4mmH3i",
        "outputId": "c31da33f-ae79-4f89-d091-9a5e88a837cd"
      },
      "execution_count": 75,
      "outputs": [
        {
          "output_type": "execute_result",
          "data": {
            "text/plain": [
              "torch.Size([224, 244, 3])"
            ]
          },
          "metadata": {},
          "execution_count": 75
        }
      ]
    },
    {
      "cell_type": "code",
      "source": [
        "random_image_tensor = torch.rand(size=(3,224,244))\n",
        "random_image_tensor"
      ],
      "metadata": {
        "colab": {
          "base_uri": "https://localhost:8080/"
        },
        "id": "sW1mMdconzrJ",
        "outputId": "6af66822-de9c-4ca5-a6c2-d80429440c93"
      },
      "execution_count": 76,
      "outputs": [
        {
          "output_type": "execute_result",
          "data": {
            "text/plain": [
              "tensor([[[0.8505, 0.5238, 0.1249,  ..., 0.4133, 0.8153, 0.3952],\n",
              "         [0.4165, 0.8476, 0.1674,  ..., 0.9325, 0.1595, 0.6280],\n",
              "         [0.1095, 0.6230, 0.0330,  ..., 0.2445, 0.4739, 0.8054],\n",
              "         ...,\n",
              "         [0.9942, 0.2296, 0.2318,  ..., 0.9135, 0.4737, 0.0500],\n",
              "         [0.6517, 0.3838, 0.9441,  ..., 0.8429, 0.3583, 0.1924],\n",
              "         [0.2333, 0.8955, 0.6275,  ..., 0.4883, 0.6903, 0.7050]],\n",
              "\n",
              "        [[0.6058, 0.1258, 0.2949,  ..., 0.4639, 0.4596, 0.6938],\n",
              "         [0.6484, 0.8744, 0.8753,  ..., 0.3700, 0.3943, 0.3870],\n",
              "         [0.0938, 0.6788, 0.6772,  ..., 0.4288, 0.2805, 0.1421],\n",
              "         ...,\n",
              "         [0.7509, 0.4193, 0.1516,  ..., 0.8142, 0.3725, 0.9137],\n",
              "         [0.7381, 0.3097, 0.3823,  ..., 0.1202, 0.8572, 0.8003],\n",
              "         [0.9357, 0.5192, 0.4669,  ..., 0.4658, 0.3151, 0.9292]],\n",
              "\n",
              "        [[0.4250, 0.2171, 0.3808,  ..., 0.9953, 0.3729, 0.9751],\n",
              "         [0.6641, 0.8581, 0.3017,  ..., 0.3332, 0.3055, 0.6830],\n",
              "         [0.2363, 0.4106, 0.5611,  ..., 0.6385, 0.1890, 0.5510],\n",
              "         ...,\n",
              "         [0.6018, 0.6790, 0.7410,  ..., 0.7010, 0.1555, 0.8917],\n",
              "         [0.4728, 0.4296, 0.5034,  ..., 0.7868, 0.0451, 0.4762],\n",
              "         [0.1800, 0.7248, 0.3623,  ..., 0.9888, 0.0847, 0.2672]]])"
            ]
          },
          "metadata": {},
          "execution_count": 76
        }
      ]
    },
    {
      "cell_type": "markdown",
      "source": [
        "### ZEROS and ones"
      ],
      "metadata": {
        "id": "BgpI5_ljp1uJ"
      }
    },
    {
      "cell_type": "code",
      "source": [
        "# Create a tensor of all zeros\n",
        "zeros = torch.zeros(size=(3,4))\n",
        "zeros"
      ],
      "metadata": {
        "colab": {
          "base_uri": "https://localhost:8080/"
        },
        "id": "yWUOL5R0pfuA",
        "outputId": "491b8391-7a16-47f2-d3c9-3f07f50eb400"
      },
      "execution_count": 77,
      "outputs": [
        {
          "output_type": "execute_result",
          "data": {
            "text/plain": [
              "tensor([[0., 0., 0., 0.],\n",
              "        [0., 0., 0., 0.],\n",
              "        [0., 0., 0., 0.]])"
            ]
          },
          "metadata": {},
          "execution_count": 77
        }
      ]
    },
    {
      "cell_type": "code",
      "source": [
        "# Create a tensor of all ones\n",
        "\n",
        "ones = torch.ones(size=(3,4))\n",
        "ones"
      ],
      "metadata": {
        "colab": {
          "base_uri": "https://localhost:8080/"
        },
        "id": "tHMcDwbuqOAl",
        "outputId": "0fe7c074-3156-45f0-93c5-221069ff1d14"
      },
      "execution_count": 78,
      "outputs": [
        {
          "output_type": "execute_result",
          "data": {
            "text/plain": [
              "tensor([[1., 1., 1., 1.],\n",
              "        [1., 1., 1., 1.],\n",
              "        [1., 1., 1., 1.]])"
            ]
          },
          "metadata": {},
          "execution_count": 78
        }
      ]
    },
    {
      "cell_type": "markdown",
      "source": [
        "### Creating a range of tensors and tensors-like"
      ],
      "metadata": {
        "id": "Ck_fgb5mqwcH"
      }
    },
    {
      "cell_type": "code",
      "source": [
        "# Torch.arange()\n",
        "one_to_ten = torch.arange(1,11,)\n",
        "one_to_ten"
      ],
      "metadata": {
        "colab": {
          "base_uri": "https://localhost:8080/"
        },
        "id": "wjorkzjUrI1P",
        "outputId": "6a027b0d-5740-46ba-a0ac-65b27a0710c6"
      },
      "execution_count": 79,
      "outputs": [
        {
          "output_type": "execute_result",
          "data": {
            "text/plain": [
              "tensor([ 1,  2,  3,  4,  5,  6,  7,  8,  9, 10])"
            ]
          },
          "metadata": {},
          "execution_count": 79
        }
      ]
    },
    {
      "cell_type": "code",
      "source": [
        "# Creating tensors like\n",
        "ten_zeros = torch.zeros_like(one_to_ten)\n",
        "ten_zeros"
      ],
      "metadata": {
        "colab": {
          "base_uri": "https://localhost:8080/"
        },
        "id": "y1_Zp2Tfspv2",
        "outputId": "36b68257-9842-4cdc-e1d7-dc0390eda67e"
      },
      "execution_count": 80,
      "outputs": [
        {
          "output_type": "execute_result",
          "data": {
            "text/plain": [
              "tensor([0, 0, 0, 0, 0, 0, 0, 0, 0, 0])"
            ]
          },
          "metadata": {},
          "execution_count": 80
        }
      ]
    },
    {
      "cell_type": "markdown",
      "source": [
        "### Tensor Data Types\n",
        "\n",
        "**Note:** Tensors datatypes is one of 3 big issues you 'll encounter in PyTorch and DeepLearning:\n",
        "\n",
        "1. Tensors not right datatype\n",
        "2. Tensors not right shape\n",
        "3. Tensors not right device"
      ],
      "metadata": {
        "id": "2FZII8do4vZ7"
      }
    },
    {
      "cell_type": "code",
      "source": [
        "# Float 32 tensor\n",
        "\n",
        "float_32_tensor = torch.tensor([3.1,6.5,9.2,], dtype=None, device=None, requires_grad=False,)\n",
        "float_32_tensor"
      ],
      "metadata": {
        "colab": {
          "base_uri": "https://localhost:8080/"
        },
        "id": "AX_Amg904zPy",
        "outputId": "7012b889-302f-46c3-be8a-5055bab3d46c"
      },
      "execution_count": 81,
      "outputs": [
        {
          "output_type": "execute_result",
          "data": {
            "text/plain": [
              "tensor([3.1000, 6.5000, 9.2000])"
            ]
          },
          "metadata": {},
          "execution_count": 81
        }
      ]
    },
    {
      "cell_type": "code",
      "source": [
        "#Float 16 tensor\n",
        "\n",
        "float_16_tensor = float_32_tensor.type(dtype=torch.float16)\n",
        "float_16_tensor"
      ],
      "metadata": {
        "colab": {
          "base_uri": "https://localhost:8080/"
        },
        "id": "0M5EMhEN6lOg",
        "outputId": "a41da817-9bd7-4f6a-fdd9-9820572a88f7"
      },
      "execution_count": 82,
      "outputs": [
        {
          "output_type": "execute_result",
          "data": {
            "text/plain": [
              "tensor([3.0996, 6.5000, 9.2031], dtype=torch.float16)"
            ]
          },
          "metadata": {},
          "execution_count": 82
        }
      ]
    },
    {
      "cell_type": "code",
      "source": [
        "result = float_16_tensor * float_32_tensor\n",
        "result.dtype"
      ],
      "metadata": {
        "colab": {
          "base_uri": "https://localhost:8080/"
        },
        "id": "p8ntsiVi7Xta",
        "outputId": "e9298370-8871-454f-86ea-669950d5e4ea"
      },
      "execution_count": 83,
      "outputs": [
        {
          "output_type": "execute_result",
          "data": {
            "text/plain": [
              "torch.float32"
            ]
          },
          "metadata": {},
          "execution_count": 83
        }
      ]
    },
    {
      "cell_type": "code",
      "source": [
        "int_32_tensor = torch.tensor([3,4, 6], dtype=torch.int32)\n",
        "int_32_tensor"
      ],
      "metadata": {
        "colab": {
          "base_uri": "https://localhost:8080/"
        },
        "id": "rsuQ6uYJJH-g",
        "outputId": "f5ce9643-5ad8-4919-a251-d0383a4e3cdd"
      },
      "execution_count": 84,
      "outputs": [
        {
          "output_type": "execute_result",
          "data": {
            "text/plain": [
              "tensor([3, 4, 6], dtype=torch.int32)"
            ]
          },
          "metadata": {},
          "execution_count": 84
        }
      ]
    },
    {
      "cell_type": "code",
      "source": [
        "int_32_tensor * float_32_tensor"
      ],
      "metadata": {
        "colab": {
          "base_uri": "https://localhost:8080/"
        },
        "id": "kfEr7M58JXE_",
        "outputId": "eba35dd6-821a-434a-948a-88cd9f45e8d0"
      },
      "execution_count": 85,
      "outputs": [
        {
          "output_type": "execute_result",
          "data": {
            "text/plain": [
              "tensor([ 9.3000, 26.0000, 55.2000])"
            ]
          },
          "metadata": {},
          "execution_count": 85
        }
      ]
    },
    {
      "cell_type": "markdown",
      "source": [
        "### Getting information from tensors\n",
        "\n",
        "`tensor.dtype` and `tensor.shape` and `tensor.device`"
      ],
      "metadata": {
        "id": "nfNH90CNANdT"
      }
    },
    {
      "cell_type": "code",
      "source": [
        "random_tensor = torch.rand(3,4)\n",
        "random_tensor"
      ],
      "metadata": {
        "colab": {
          "base_uri": "https://localhost:8080/"
        },
        "id": "FUTkJv1JArZx",
        "outputId": "97e7fbb6-f799-487e-c399-89e7b9fbce47"
      },
      "execution_count": 86,
      "outputs": [
        {
          "output_type": "execute_result",
          "data": {
            "text/plain": [
              "tensor([[0.4868, 0.9594, 0.6232, 0.4290],\n",
              "        [0.3001, 0.1338, 0.8048, 0.5929],\n",
              "        [0.7508, 0.9722, 0.7010, 0.5843]])"
            ]
          },
          "metadata": {},
          "execution_count": 86
        }
      ]
    },
    {
      "cell_type": "code",
      "source": [
        "print(random_tensor)\n",
        "\n",
        "\n",
        "print(f\"Datatype of tensor: {random_tensor.dtype}\")\n",
        "print(f\"Shape of tensor: {random_tensor.shape}\")\n",
        "print(f\"Device tensor is on: {random_tensor.device}\")"
      ],
      "metadata": {
        "colab": {
          "base_uri": "https://localhost:8080/"
        },
        "id": "yeTa8-EaAu8z",
        "outputId": "fece585c-1a28-4c8c-cf51-9f25b13a1799"
      },
      "execution_count": 87,
      "outputs": [
        {
          "output_type": "stream",
          "name": "stdout",
          "text": [
            "tensor([[0.4868, 0.9594, 0.6232, 0.4290],\n",
            "        [0.3001, 0.1338, 0.8048, 0.5929],\n",
            "        [0.7508, 0.9722, 0.7010, 0.5843]])\n",
            "Datatype of tensor: torch.float32\n",
            "Shape of tensor: torch.Size([3, 4])\n",
            "Device tensor is on: cpu\n"
          ]
        }
      ]
    },
    {
      "cell_type": "markdown",
      "source": [
        "### Tensor Operations\n",
        "\n",
        "Ternsor Operations include:\n",
        "- Addition\n",
        "- Substraction\n",
        "- Multiplication\n",
        "- Division\n",
        "- Matrix Multiplication\n"
      ],
      "metadata": {
        "id": "NaxquSOBL7IG"
      }
    },
    {
      "cell_type": "code",
      "source": [
        "## Create A Tensor\n",
        "my_tensor = torch.tensor([1,2,3])\n",
        "\n",
        "my_tensor + 10"
      ],
      "metadata": {
        "colab": {
          "base_uri": "https://localhost:8080/"
        },
        "id": "ryRQS4kNMKfe",
        "outputId": "cbdcff04-a576-45f2-def3-5aea4dbe105e"
      },
      "execution_count": 88,
      "outputs": [
        {
          "output_type": "execute_result",
          "data": {
            "text/plain": [
              "tensor([11, 12, 13])"
            ]
          },
          "metadata": {},
          "execution_count": 88
        }
      ]
    },
    {
      "cell_type": "code",
      "source": [
        "# Multiply a Tensor by 10\n",
        "\n",
        "my_tensor * 10"
      ],
      "metadata": {
        "colab": {
          "base_uri": "https://localhost:8080/"
        },
        "id": "pyAtV8oUM4dy",
        "outputId": "8f66068a-46b8-42ad-928a-fa87ac2847cb"
      },
      "execution_count": 89,
      "outputs": [
        {
          "output_type": "execute_result",
          "data": {
            "text/plain": [
              "tensor([10, 20, 30])"
            ]
          },
          "metadata": {},
          "execution_count": 89
        }
      ]
    },
    {
      "cell_type": "code",
      "source": [
        "# Subtract Tensor\n",
        "\n",
        "my_tensor - 10"
      ],
      "metadata": {
        "id": "B_YC27IBNSco",
        "outputId": "96d5779a-8e33-4e59-8287-9b9f20466ce8",
        "colab": {
          "base_uri": "https://localhost:8080/"
        }
      },
      "execution_count": 90,
      "outputs": [
        {
          "output_type": "execute_result",
          "data": {
            "text/plain": [
              "tensor([-9, -8, -7])"
            ]
          },
          "metadata": {},
          "execution_count": 90
        }
      ]
    },
    {
      "cell_type": "markdown",
      "source": [
        "## Matrix Multiplication\n",
        "\n",
        "two rules should be applied:\n",
        "\n",
        "1- inner dimension should be same\n",
        "2- output shape will be like outer shapes"
      ],
      "metadata": {
        "id": "cOmwQfoBl9xo"
      }
    },
    {
      "cell_type": "code",
      "source": [
        "tensor_A = torch.tensor([[1,2,3], [4,5,6], [7,8,9]], dtype=torch.float32)\n",
        "tensor_B = torch.rand(size=(3,3))\n",
        "\n",
        "print(tensor_A.dtype)\n",
        "print(tensor_B.dtype)\n",
        "\n",
        "torch.matmul(tensor_A, tensor_B)\n",
        "\n"
      ],
      "metadata": {
        "colab": {
          "base_uri": "https://localhost:8080/"
        },
        "id": "Z4eTEf4UmiPb",
        "outputId": "062abeb9-3fe7-47a1-b020-d18b37fb2127"
      },
      "execution_count": 91,
      "outputs": [
        {
          "output_type": "stream",
          "name": "stdout",
          "text": [
            "torch.float32\n",
            "torch.float32\n"
          ]
        },
        {
          "output_type": "execute_result",
          "data": {
            "text/plain": [
              "tensor([[2.2384, 2.0553, 1.9964],\n",
              "        [4.8670, 4.5172, 5.1266],\n",
              "        [7.4955, 6.9792, 8.2568]])"
            ]
          },
          "metadata": {},
          "execution_count": 91
        }
      ]
    },
    {
      "cell_type": "markdown",
      "source": [
        "## Find Tensor Min, Max, Mean, Sum, (etc.)\n"
      ],
      "metadata": {
        "id": "5ul4UaPBneQZ"
      }
    },
    {
      "cell_type": "code",
      "source": [
        "tensor = torch.arange(0,100,10)\n",
        "tensor"
      ],
      "metadata": {
        "colab": {
          "base_uri": "https://localhost:8080/"
        },
        "id": "RG6FOsV4n7v5",
        "outputId": "6d94c338-05c8-40e7-f7ae-49e5ec4bdc80"
      },
      "execution_count": 92,
      "outputs": [
        {
          "output_type": "execute_result",
          "data": {
            "text/plain": [
              "tensor([ 0, 10, 20, 30, 40, 50, 60, 70, 80, 90])"
            ]
          },
          "metadata": {},
          "execution_count": 92
        }
      ]
    },
    {
      "cell_type": "code",
      "source": [
        "# Find min\n",
        "\n",
        "tensor.min(), torch.min(tensor)"
      ],
      "metadata": {
        "colab": {
          "base_uri": "https://localhost:8080/"
        },
        "id": "9zI3wKspoMRy",
        "outputId": "558682d0-6958-4d8d-8e08-38683e51f327"
      },
      "execution_count": 93,
      "outputs": [
        {
          "output_type": "execute_result",
          "data": {
            "text/plain": [
              "(tensor(0), tensor(0))"
            ]
          },
          "metadata": {},
          "execution_count": 93
        }
      ]
    },
    {
      "cell_type": "code",
      "source": [
        "# Find Max\n",
        "\n",
        "tensor.max(), torch.max(tensor)"
      ],
      "metadata": {
        "colab": {
          "base_uri": "https://localhost:8080/"
        },
        "id": "B5xM7klxoX44",
        "outputId": "868803ed-ddeb-447c-8ad4-639586cc1b71"
      },
      "execution_count": 94,
      "outputs": [
        {
          "output_type": "execute_result",
          "data": {
            "text/plain": [
              "(tensor(90), tensor(90))"
            ]
          },
          "metadata": {},
          "execution_count": 94
        }
      ]
    },
    {
      "cell_type": "code",
      "source": [
        "# Find Mean\n",
        "tensor.type(torch.float32).mean(), torch.mean(tensor.type(torch.float32))"
      ],
      "metadata": {
        "colab": {
          "base_uri": "https://localhost:8080/"
        },
        "id": "XNTp0hJDoboI",
        "outputId": "844e23ef-a523-4091-da75-57b9772e5924"
      },
      "execution_count": 95,
      "outputs": [
        {
          "output_type": "execute_result",
          "data": {
            "text/plain": [
              "(tensor(45.), tensor(45.))"
            ]
          },
          "metadata": {},
          "execution_count": 95
        }
      ]
    },
    {
      "cell_type": "code",
      "source": [
        "# Find Sum\n",
        "\n",
        "tensor.sum(), torch.sum(tensor)"
      ],
      "metadata": {
        "colab": {
          "base_uri": "https://localhost:8080/"
        },
        "id": "DyuPISCOosme",
        "outputId": "aaaabc00-3900-44f7-e164-5353806bc19c"
      },
      "execution_count": 96,
      "outputs": [
        {
          "output_type": "execute_result",
          "data": {
            "text/plain": [
              "(tensor(450), tensor(450))"
            ]
          },
          "metadata": {},
          "execution_count": 96
        }
      ]
    },
    {
      "cell_type": "markdown",
      "source": [
        "## Finding the positional min and max"
      ],
      "metadata": {
        "id": "4wJh9CD5pMOG"
      }
    },
    {
      "cell_type": "code",
      "source": [
        "# find minimum value index\n",
        "\n",
        "tensor.argmin(), torch.argmin(tensor)"
      ],
      "metadata": {
        "colab": {
          "base_uri": "https://localhost:8080/"
        },
        "id": "Wp1UY_ylqJZU",
        "outputId": "938a7da8-562d-41d5-82fb-f895d4c0757b"
      },
      "execution_count": 97,
      "outputs": [
        {
          "output_type": "execute_result",
          "data": {
            "text/plain": [
              "(tensor(0), tensor(0))"
            ]
          },
          "metadata": {},
          "execution_count": 97
        }
      ]
    },
    {
      "cell_type": "code",
      "source": [
        "# find maximum value index\n",
        "\n",
        "tensor.argmax(), torch.argmax(tensor)"
      ],
      "metadata": {
        "colab": {
          "base_uri": "https://localhost:8080/"
        },
        "id": "8ewb193fqSTL",
        "outputId": "3ba4eef5-eb02-4ed4-d403-c3a14d25bb79"
      },
      "execution_count": 98,
      "outputs": [
        {
          "output_type": "execute_result",
          "data": {
            "text/plain": [
              "(tensor(9), tensor(9))"
            ]
          },
          "metadata": {},
          "execution_count": 98
        }
      ]
    },
    {
      "cell_type": "markdown",
      "source": [
        "# Reshaping, stacking, squeezing and unsqueezing\n",
        "\n",
        "* reshaping - reshapes an input tensor to a defined shape\n",
        "* viewing - Return a view of an input tensor of certain shape but keep the same memory as the original tensor\n",
        "* stacking - combine multiple tensors into a single tensor (vstack) and (hstack)\n",
        "* squeezing - remove all `1` dimensions from a tensor\n",
        "* unsqueezing - add  a `1` dimension to a tensor\n",
        "* Permute - Return a view of the input with dimensions permuted(swapped) in a certain way.\n"
      ],
      "metadata": {
        "id": "rhAl391JqmUP"
      }
    },
    {
      "cell_type": "code",
      "source": [
        "x = torch.arange(1,10)\n",
        "\n",
        "x, x.shape"
      ],
      "metadata": {
        "colab": {
          "base_uri": "https://localhost:8080/"
        },
        "id": "4CW711PurLVP",
        "outputId": "e4365486-5f12-4044-b189-0eea7a837ab8"
      },
      "execution_count": 99,
      "outputs": [
        {
          "output_type": "execute_result",
          "data": {
            "text/plain": [
              "(tensor([1, 2, 3, 4, 5, 6, 7, 8, 9]), torch.Size([9]))"
            ]
          },
          "metadata": {},
          "execution_count": 99
        }
      ]
    },
    {
      "cell_type": "code",
      "source": [
        "x.reshape(9,1), x.reshape(9,1).shape"
      ],
      "metadata": {
        "colab": {
          "base_uri": "https://localhost:8080/"
        },
        "id": "jAYQFQilsVyZ",
        "outputId": "11b37bf2-028f-49e7-eeb5-abd8c5da49a4"
      },
      "execution_count": 100,
      "outputs": [
        {
          "output_type": "execute_result",
          "data": {
            "text/plain": [
              "(tensor([[1],\n",
              "         [2],\n",
              "         [3],\n",
              "         [4],\n",
              "         [5],\n",
              "         [6],\n",
              "         [7],\n",
              "         [8],\n",
              "         [9]]),\n",
              " torch.Size([9, 1]))"
            ]
          },
          "metadata": {},
          "execution_count": 100
        }
      ]
    },
    {
      "cell_type": "code",
      "source": [
        "x[0]"
      ],
      "metadata": {
        "colab": {
          "base_uri": "https://localhost:8080/"
        },
        "id": "ophd-af3stJ1",
        "outputId": "10cfede4-062e-4587-d51d-1b2d19d8cce3"
      },
      "execution_count": 101,
      "outputs": [
        {
          "output_type": "execute_result",
          "data": {
            "text/plain": [
              "tensor(1)"
            ]
          },
          "metadata": {},
          "execution_count": 101
        }
      ]
    },
    {
      "cell_type": "code",
      "source": [
        "# Change the view of the tensor\n",
        "# Changing z will also change x because they share the same memory\n",
        "z = x.view(3,3)\n",
        "z"
      ],
      "metadata": {
        "colab": {
          "base_uri": "https://localhost:8080/"
        },
        "id": "tDbSDS9FszV1",
        "outputId": "e7b45a81-1b42-46e4-ab34-14aa9b1433ce"
      },
      "execution_count": 102,
      "outputs": [
        {
          "output_type": "execute_result",
          "data": {
            "text/plain": [
              "tensor([[1, 2, 3],\n",
              "        [4, 5, 6],\n",
              "        [7, 8, 9]])"
            ]
          },
          "metadata": {},
          "execution_count": 102
        }
      ]
    },
    {
      "cell_type": "code",
      "source": [
        "# Stack tensors\n",
        "\n",
        "x_stacked = torch.stack([x,x,x,x])\n",
        "x_stacked"
      ],
      "metadata": {
        "colab": {
          "base_uri": "https://localhost:8080/"
        },
        "id": "jRUrvfN6ttls",
        "outputId": "26befeb7-86a6-4326-a9b4-72dfd1e5fa06"
      },
      "execution_count": 103,
      "outputs": [
        {
          "output_type": "execute_result",
          "data": {
            "text/plain": [
              "tensor([[1, 2, 3, 4, 5, 6, 7, 8, 9],\n",
              "        [1, 2, 3, 4, 5, 6, 7, 8, 9],\n",
              "        [1, 2, 3, 4, 5, 6, 7, 8, 9],\n",
              "        [1, 2, 3, 4, 5, 6, 7, 8, 9]])"
            ]
          },
          "metadata": {},
          "execution_count": 103
        }
      ]
    },
    {
      "cell_type": "code",
      "source": [
        "x_stacked.squeeze()"
      ],
      "metadata": {
        "colab": {
          "base_uri": "https://localhost:8080/"
        },
        "id": "Ey61yK4wuKtl",
        "outputId": "19f8b9c7-591c-4a1a-e998-da4bbb035b77"
      },
      "execution_count": 104,
      "outputs": [
        {
          "output_type": "execute_result",
          "data": {
            "text/plain": [
              "tensor([[1, 2, 3, 4, 5, 6, 7, 8, 9],\n",
              "        [1, 2, 3, 4, 5, 6, 7, 8, 9],\n",
              "        [1, 2, 3, 4, 5, 6, 7, 8, 9],\n",
              "        [1, 2, 3, 4, 5, 6, 7, 8, 9]])"
            ]
          },
          "metadata": {},
          "execution_count": 104
        }
      ]
    },
    {
      "cell_type": "code",
      "source": [
        "x.squeeze()"
      ],
      "metadata": {
        "colab": {
          "base_uri": "https://localhost:8080/"
        },
        "id": "RnQif-gJuhlT",
        "outputId": "e2e23d9a-2111-4a15-efa3-39e0d5b59554"
      },
      "execution_count": 105,
      "outputs": [
        {
          "output_type": "execute_result",
          "data": {
            "text/plain": [
              "tensor([1, 2, 3, 4, 5, 6, 7, 8, 9])"
            ]
          },
          "metadata": {},
          "execution_count": 105
        }
      ]
    },
    {
      "cell_type": "code",
      "source": [
        "x_reshaped = x.reshape(1,9)\n",
        "x_reshaped, x_reshaped.shape\n"
      ],
      "metadata": {
        "colab": {
          "base_uri": "https://localhost:8080/"
        },
        "id": "opSyiCGhulhe",
        "outputId": "003b7feb-ef0f-44c6-d3a0-44def937b4be"
      },
      "execution_count": 106,
      "outputs": [
        {
          "output_type": "execute_result",
          "data": {
            "text/plain": [
              "(tensor([[1, 2, 3, 4, 5, 6, 7, 8, 9]]), torch.Size([1, 9]))"
            ]
          },
          "metadata": {},
          "execution_count": 106
        }
      ]
    },
    {
      "cell_type": "code",
      "source": [
        "print(x_reshaped.squeeze())\n",
        "x_reshaped.squeeze().shape"
      ],
      "metadata": {
        "colab": {
          "base_uri": "https://localhost:8080/"
        },
        "id": "pKhHavlUu9nJ",
        "outputId": "dc238928-3559-4ec7-9916-bb5eebb9a851"
      },
      "execution_count": 107,
      "outputs": [
        {
          "output_type": "stream",
          "name": "stdout",
          "text": [
            "tensor([1, 2, 3, 4, 5, 6, 7, 8, 9])\n"
          ]
        },
        {
          "output_type": "execute_result",
          "data": {
            "text/plain": [
              "torch.Size([9])"
            ]
          },
          "metadata": {},
          "execution_count": 107
        }
      ]
    },
    {
      "cell_type": "code",
      "source": [
        "x_reshaped.squeeze()[0]"
      ],
      "metadata": {
        "colab": {
          "base_uri": "https://localhost:8080/"
        },
        "id": "eklLnOVtvG-O",
        "outputId": "65db62c3-dc11-47d0-f7aa-587fd9250c14"
      },
      "execution_count": 108,
      "outputs": [
        {
          "output_type": "execute_result",
          "data": {
            "text/plain": [
              "tensor(1)"
            ]
          },
          "metadata": {},
          "execution_count": 108
        }
      ]
    },
    {
      "cell_type": "code",
      "source": [
        "# Unsqueeze a tensor\n",
        "\n",
        "print(f\"Previous Tensor: {x.squeeze()}\")\n",
        "print(f\"Previous Tensor Shape: {x.squeeze().shape}\")\n",
        "\n",
        "print(\"=========================\")\n",
        "\n",
        "print(f\"New Tensor: {x.squeeze().unsqueeze(dim=0)}\")\n",
        "print(f\"New Tensor Shape: {x.squeeze().unsqueeze(dim=0).shape}\")\n"
      ],
      "metadata": {
        "colab": {
          "base_uri": "https://localhost:8080/"
        },
        "id": "PJHmrVQavQZr",
        "outputId": "e08ff4a6-a52a-4f00-920a-256e7f242606"
      },
      "execution_count": 109,
      "outputs": [
        {
          "output_type": "stream",
          "name": "stdout",
          "text": [
            "Previous Tensor: tensor([1, 2, 3, 4, 5, 6, 7, 8, 9])\n",
            "Previous Tensor Shape: torch.Size([9])\n",
            "=========================\n",
            "New Tensor: tensor([[1, 2, 3, 4, 5, 6, 7, 8, 9]])\n",
            "New Tensor Shape: torch.Size([1, 9])\n"
          ]
        }
      ]
    },
    {
      "cell_type": "code",
      "source": [
        "# Torch.permute\n",
        "\n",
        "x_original = torch.rand(size=(244,244,3))\n",
        "print(x_original)\n",
        "\n",
        "x_permuted = x_original.permute(2,0,1)\n",
        "x_permuted"
      ],
      "metadata": {
        "colab": {
          "base_uri": "https://localhost:8080/"
        },
        "id": "iAai6qBUwIsB",
        "outputId": "97fb057a-4d6f-4767-b39a-9e4fb707bc86"
      },
      "execution_count": 110,
      "outputs": [
        {
          "output_type": "stream",
          "name": "stdout",
          "text": [
            "tensor([[[0.6265, 0.2080, 0.3440],\n",
            "         [0.3363, 0.3320, 0.3169],\n",
            "         [0.6458, 0.3599, 0.1699],\n",
            "         ...,\n",
            "         [0.4732, 0.4409, 0.1528],\n",
            "         [0.4918, 0.1598, 0.0607],\n",
            "         [0.8909, 0.9963, 0.4607]],\n",
            "\n",
            "        [[0.1011, 0.2146, 0.6395],\n",
            "         [0.1058, 0.3309, 0.5961],\n",
            "         [0.7474, 0.1508, 0.4832],\n",
            "         ...,\n",
            "         [0.0913, 0.4687, 0.1453],\n",
            "         [0.9691, 0.8547, 0.5804],\n",
            "         [0.2842, 0.6451, 0.5511]],\n",
            "\n",
            "        [[0.8469, 0.1135, 0.2203],\n",
            "         [0.4165, 0.6078, 0.1320],\n",
            "         [0.4885, 0.7853, 0.6733],\n",
            "         ...,\n",
            "         [0.4213, 0.9839, 0.8744],\n",
            "         [0.1873, 0.0994, 0.3061],\n",
            "         [0.9430, 0.8310, 0.0101]],\n",
            "\n",
            "        ...,\n",
            "\n",
            "        [[0.5919, 0.9855, 0.6262],\n",
            "         [0.9994, 0.6544, 0.9145],\n",
            "         [0.6053, 0.6982, 0.3033],\n",
            "         ...,\n",
            "         [0.3503, 0.5540, 0.2487],\n",
            "         [0.8136, 0.8029, 0.0984],\n",
            "         [0.7792, 0.2482, 0.3999]],\n",
            "\n",
            "        [[0.3366, 0.6575, 0.1572],\n",
            "         [0.3326, 0.4891, 0.0588],\n",
            "         [0.7835, 0.4513, 0.2242],\n",
            "         ...,\n",
            "         [0.8086, 0.5287, 0.8007],\n",
            "         [0.9053, 0.4564, 0.7061],\n",
            "         [0.7529, 0.5211, 0.3344]],\n",
            "\n",
            "        [[0.4697, 0.9235, 0.9779],\n",
            "         [0.6048, 0.5318, 0.8849],\n",
            "         [0.5668, 0.8665, 0.9647],\n",
            "         ...,\n",
            "         [0.4396, 0.4635, 0.2241],\n",
            "         [0.2958, 0.2105, 0.5675],\n",
            "         [0.1518, 0.1678, 0.8089]]])\n"
          ]
        },
        {
          "output_type": "execute_result",
          "data": {
            "text/plain": [
              "tensor([[[0.6265, 0.3363, 0.6458,  ..., 0.4732, 0.4918, 0.8909],\n",
              "         [0.1011, 0.1058, 0.7474,  ..., 0.0913, 0.9691, 0.2842],\n",
              "         [0.8469, 0.4165, 0.4885,  ..., 0.4213, 0.1873, 0.9430],\n",
              "         ...,\n",
              "         [0.5919, 0.9994, 0.6053,  ..., 0.3503, 0.8136, 0.7792],\n",
              "         [0.3366, 0.3326, 0.7835,  ..., 0.8086, 0.9053, 0.7529],\n",
              "         [0.4697, 0.6048, 0.5668,  ..., 0.4396, 0.2958, 0.1518]],\n",
              "\n",
              "        [[0.2080, 0.3320, 0.3599,  ..., 0.4409, 0.1598, 0.9963],\n",
              "         [0.2146, 0.3309, 0.1508,  ..., 0.4687, 0.8547, 0.6451],\n",
              "         [0.1135, 0.6078, 0.7853,  ..., 0.9839, 0.0994, 0.8310],\n",
              "         ...,\n",
              "         [0.9855, 0.6544, 0.6982,  ..., 0.5540, 0.8029, 0.2482],\n",
              "         [0.6575, 0.4891, 0.4513,  ..., 0.5287, 0.4564, 0.5211],\n",
              "         [0.9235, 0.5318, 0.8665,  ..., 0.4635, 0.2105, 0.1678]],\n",
              "\n",
              "        [[0.3440, 0.3169, 0.1699,  ..., 0.1528, 0.0607, 0.4607],\n",
              "         [0.6395, 0.5961, 0.4832,  ..., 0.1453, 0.5804, 0.5511],\n",
              "         [0.2203, 0.1320, 0.6733,  ..., 0.8744, 0.3061, 0.0101],\n",
              "         ...,\n",
              "         [0.6262, 0.9145, 0.3033,  ..., 0.2487, 0.0984, 0.3999],\n",
              "         [0.1572, 0.0588, 0.2242,  ..., 0.8007, 0.7061, 0.3344],\n",
              "         [0.9779, 0.8849, 0.9647,  ..., 0.2241, 0.5675, 0.8089]]])"
            ]
          },
          "metadata": {},
          "execution_count": 110
        }
      ]
    },
    {
      "cell_type": "markdown",
      "source": [
        "## Indexing: Select data from a tensor"
      ],
      "metadata": {
        "id": "1WCEfgj3w2j_"
      }
    },
    {
      "cell_type": "code",
      "source": [
        "x = torch.arange(1,10)\n",
        "\n",
        "\n",
        "x_reshaped = x.reshape(1,3,3)\n",
        "\n",
        "x_reshaped"
      ],
      "metadata": {
        "colab": {
          "base_uri": "https://localhost:8080/"
        },
        "id": "ucAz0geE1KQ3",
        "outputId": "3a3b5526-c097-47e9-bf4b-e8f50394ee4d"
      },
      "execution_count": 111,
      "outputs": [
        {
          "output_type": "execute_result",
          "data": {
            "text/plain": [
              "tensor([[[1, 2, 3],\n",
              "         [4, 5, 6],\n",
              "         [7, 8, 9]]])"
            ]
          },
          "metadata": {},
          "execution_count": 111
        }
      ]
    },
    {
      "cell_type": "code",
      "source": [
        "x_reshaped[0]"
      ],
      "metadata": {
        "colab": {
          "base_uri": "https://localhost:8080/"
        },
        "id": "kmVp_lX31Rt-",
        "outputId": "7d52b5a5-f772-4700-cc37-2477cbaa9159"
      },
      "execution_count": 112,
      "outputs": [
        {
          "output_type": "execute_result",
          "data": {
            "text/plain": [
              "tensor([[1, 2, 3],\n",
              "        [4, 5, 6],\n",
              "        [7, 8, 9]])"
            ]
          },
          "metadata": {},
          "execution_count": 112
        }
      ]
    },
    {
      "cell_type": "code",
      "source": [
        "x_reshaped[0][0]"
      ],
      "metadata": {
        "colab": {
          "base_uri": "https://localhost:8080/"
        },
        "id": "oXO64nIP1lwR",
        "outputId": "1571b51e-70af-47d3-fd26-5c99e9ed4a82"
      },
      "execution_count": 113,
      "outputs": [
        {
          "output_type": "execute_result",
          "data": {
            "text/plain": [
              "tensor([1, 2, 3])"
            ]
          },
          "metadata": {},
          "execution_count": 113
        }
      ]
    },
    {
      "cell_type": "code",
      "source": [
        "x_reshaped[0][0][0]"
      ],
      "metadata": {
        "colab": {
          "base_uri": "https://localhost:8080/"
        },
        "id": "fbc1rQX21pWW",
        "outputId": "d1370f2e-7031-4cec-aa16-f69211596d1e"
      },
      "execution_count": 114,
      "outputs": [
        {
          "output_type": "execute_result",
          "data": {
            "text/plain": [
              "tensor(1)"
            ]
          },
          "metadata": {},
          "execution_count": 114
        }
      ]
    },
    {
      "cell_type": "code",
      "source": [
        "# You can use \":\" to select \"all\" of  a target dimension\n",
        "\n",
        "x_reshaped[:,:,0]"
      ],
      "metadata": {
        "colab": {
          "base_uri": "https://localhost:8080/"
        },
        "id": "mYTArlRX1qHc",
        "outputId": "04bf69d0-9ddd-4884-a331-89bdfc9c76a3"
      },
      "execution_count": 115,
      "outputs": [
        {
          "output_type": "execute_result",
          "data": {
            "text/plain": [
              "tensor([[1, 4, 7]])"
            ]
          },
          "metadata": {},
          "execution_count": 115
        }
      ]
    },
    {
      "cell_type": "code",
      "source": [
        "# Get all the values of the 0th dimension from the 1st dimension\n",
        "x_reshaped[:, 1]"
      ],
      "metadata": {
        "id": "_wwrZ0P-197x",
        "colab": {
          "base_uri": "https://localhost:8080/"
        },
        "outputId": "9b6ed2f5-a90d-4f30-d556-d065572112cc"
      },
      "execution_count": 119,
      "outputs": [
        {
          "output_type": "execute_result",
          "data": {
            "text/plain": [
              "tensor([[4, 5, 6]])"
            ]
          },
          "metadata": {},
          "execution_count": 119
        }
      ]
    },
    {
      "cell_type": "code",
      "source": [
        "# Get the first two values of the 0th dimension from the 1st dimension\n",
        "x_reshaped[:, 1, :2]"
      ],
      "metadata": {
        "colab": {
          "base_uri": "https://localhost:8080/"
        },
        "id": "2LyiHSE-F_wo",
        "outputId": "8892ef44-2ffe-49bd-a448-1b372b038b76"
      },
      "execution_count": 120,
      "outputs": [
        {
          "output_type": "execute_result",
          "data": {
            "text/plain": [
              "tensor([[4, 5]])"
            ]
          },
          "metadata": {},
          "execution_count": 120
        }
      ]
    },
    {
      "cell_type": "code",
      "source": [
        "# Setup device agnostic code\n",
        "\n",
        "device = \"cuda\" if torch.cuda.is_available() else \"cpu\"\n",
        "print(f\"Using device: {device}\")"
      ],
      "metadata": {
        "colab": {
          "base_uri": "https://localhost:8080/"
        },
        "id": "rzmyEJ2cGT3k",
        "outputId": "1a72799a-3840-4b49-ff32-0c8ca302e643"
      },
      "execution_count": 121,
      "outputs": [
        {
          "output_type": "stream",
          "name": "stdout",
          "text": [
            "Using device: cpu\n"
          ]
        }
      ]
    },
    {
      "cell_type": "code",
      "source": [
        "tensor = torch.tensor([1,2,3])\n",
        "\n",
        "tensor_on_gpu = tensor.to(device)\n",
        "tensor_on_gpu"
      ],
      "metadata": {
        "colab": {
          "base_uri": "https://localhost:8080/"
        },
        "id": "9jLGXebwLAeL",
        "outputId": "4d7ee3d6-8491-4315-80fe-8c9be36e0641"
      },
      "execution_count": 122,
      "outputs": [
        {
          "output_type": "execute_result",
          "data": {
            "text/plain": [
              "tensor([1, 2, 3])"
            ]
          },
          "metadata": {},
          "execution_count": 122
        }
      ]
    },
    {
      "cell_type": "code",
      "source": [
        "tensor_on_cpu = tensor_on_gpu.cpu()\n",
        "tensor_on_cpu"
      ],
      "metadata": {
        "colab": {
          "base_uri": "https://localhost:8080/"
        },
        "id": "_In8ZLM0NqQE",
        "outputId": "73950b23-4beb-4983-f5cf-ee233c78c438"
      },
      "execution_count": 123,
      "outputs": [
        {
          "output_type": "execute_result",
          "data": {
            "text/plain": [
              "tensor([1, 2, 3])"
            ]
          },
          "metadata": {},
          "execution_count": 123
        }
      ]
    },
    {
      "cell_type": "code",
      "source": [],
      "metadata": {
        "id": "njDTaPscOHYE"
      },
      "execution_count": null,
      "outputs": []
    }
  ]
}