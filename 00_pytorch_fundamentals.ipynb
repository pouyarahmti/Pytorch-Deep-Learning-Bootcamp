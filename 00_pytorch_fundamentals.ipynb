{
  "nbformat": 4,
  "nbformat_minor": 0,
  "metadata": {
    "colab": {
      "provenance": [],
      "authorship_tag": "ABX9TyNWvl0GnYqVdZ/+Gd34vvzO",
      "include_colab_link": true
    },
    "kernelspec": {
      "name": "python3",
      "display_name": "Python 3"
    },
    "language_info": {
      "name": "python"
    }
  },
  "cells": [
    {
      "cell_type": "markdown",
      "metadata": {
        "id": "view-in-github",
        "colab_type": "text"
      },
      "source": [
        "<a href=\"https://colab.research.google.com/github/pouyarahmti/Pytorch-Deep-Learning-Bootcamp/blob/main/00_pytorch_fundamentals.ipynb\" target=\"_parent\"><img src=\"https://colab.research.google.com/assets/colab-badge.svg\" alt=\"Open In Colab\"/></a>"
      ]
    },
    {
      "cell_type": "markdown",
      "source": [
        "## 00.PyTorch Fundamentals\n"
      ],
      "metadata": {
        "id": "8Za8fZZRPw3Z"
      }
    },
    {
      "cell_type": "code",
      "source": [
        "import torch\n",
        "import matplotlib.pyplot as plt\n",
        "import numpy as np\n",
        "import pandas as pd\n",
        "\n",
        "print(torch.__version__)"
      ],
      "metadata": {
        "id": "cbq6i-OxbJBJ",
        "colab": {
          "base_uri": "https://localhost:8080/"
        },
        "outputId": "f919cc18-5016-45dc-f224-3d1851368aa7"
      },
      "execution_count": 56,
      "outputs": [
        {
          "output_type": "stream",
          "name": "stdout",
          "text": [
            "2.2.1+cu121\n"
          ]
        }
      ]
    },
    {
      "cell_type": "markdown",
      "source": [
        "# Introduction to Tensors"
      ],
      "metadata": {
        "id": "4sUOZCis2S0a"
      }
    },
    {
      "cell_type": "markdown",
      "source": [
        "### Creating Tensors\n",
        "\n",
        " pytorch tensors are created using `torch.tensor()`"
      ],
      "metadata": {
        "id": "PwmbxA4z2dhm"
      }
    },
    {
      "cell_type": "code",
      "source": [
        "# Scalar Tensor\n",
        "\n",
        "scalar = torch.tensor(7)\n",
        "scalar"
      ],
      "metadata": {
        "colab": {
          "base_uri": "https://localhost:8080/"
        },
        "id": "qVA4-IbpYGzP",
        "outputId": "c7742e42-03c8-4f21-cda4-9ad95fc6add4"
      },
      "execution_count": 57,
      "outputs": [
        {
          "output_type": "execute_result",
          "data": {
            "text/plain": [
              "tensor(7)"
            ]
          },
          "metadata": {},
          "execution_count": 57
        }
      ]
    },
    {
      "cell_type": "code",
      "source": [
        "scalar.ndim"
      ],
      "metadata": {
        "colab": {
          "base_uri": "https://localhost:8080/"
        },
        "id": "W7_Fo_WNauD1",
        "outputId": "89ab10e1-61c4-463e-e772-8cfa290ef2e7"
      },
      "execution_count": 58,
      "outputs": [
        {
          "output_type": "execute_result",
          "data": {
            "text/plain": [
              "0"
            ]
          },
          "metadata": {},
          "execution_count": 58
        }
      ]
    },
    {
      "cell_type": "code",
      "source": [
        "# Get tensor back as python int\n",
        "scalar.item()"
      ],
      "metadata": {
        "id": "A15AYjYHcH9J",
        "colab": {
          "base_uri": "https://localhost:8080/"
        },
        "outputId": "65fffde1-24a6-4825-d3c9-aa8d8894d1d8"
      },
      "execution_count": 59,
      "outputs": [
        {
          "output_type": "execute_result",
          "data": {
            "text/plain": [
              "7"
            ]
          },
          "metadata": {},
          "execution_count": 59
        }
      ]
    },
    {
      "cell_type": "code",
      "source": [
        "# Vector\n",
        "\n",
        "vector = torch.tensor([7,7])\n",
        "vector"
      ],
      "metadata": {
        "colab": {
          "base_uri": "https://localhost:8080/"
        },
        "id": "TRu_4UlQcKWE",
        "outputId": "a4022376-2f8a-4fed-c28e-9092251e9c45"
      },
      "execution_count": 60,
      "outputs": [
        {
          "output_type": "execute_result",
          "data": {
            "text/plain": [
              "tensor([7, 7])"
            ]
          },
          "metadata": {},
          "execution_count": 60
        }
      ]
    },
    {
      "cell_type": "code",
      "source": [
        "vector.ndim"
      ],
      "metadata": {
        "colab": {
          "base_uri": "https://localhost:8080/"
        },
        "id": "avvYGzrhcZyU",
        "outputId": "f7342922-d1da-4b7e-97e9-4cec34276767"
      },
      "execution_count": 61,
      "outputs": [
        {
          "output_type": "execute_result",
          "data": {
            "text/plain": [
              "1"
            ]
          },
          "metadata": {},
          "execution_count": 61
        }
      ]
    },
    {
      "cell_type": "code",
      "source": [
        "vector.shape"
      ],
      "metadata": {
        "colab": {
          "base_uri": "https://localhost:8080/"
        },
        "id": "ZfWsgExgccji",
        "outputId": "17c8923c-dcfd-4741-ed21-72d86c7e3eb2"
      },
      "execution_count": 62,
      "outputs": [
        {
          "output_type": "execute_result",
          "data": {
            "text/plain": [
              "torch.Size([2])"
            ]
          },
          "metadata": {},
          "execution_count": 62
        }
      ]
    },
    {
      "cell_type": "code",
      "source": [
        "# MATRIX\n",
        "\n",
        "MATRIX = torch.tensor([[7, 3], [8, 3] ])\n",
        "MATRIX"
      ],
      "metadata": {
        "colab": {
          "base_uri": "https://localhost:8080/"
        },
        "id": "JzseTZepcrpX",
        "outputId": "98837604-8f98-4d9e-bf36-312932253e58"
      },
      "execution_count": 63,
      "outputs": [
        {
          "output_type": "execute_result",
          "data": {
            "text/plain": [
              "tensor([[7, 3],\n",
              "        [8, 3]])"
            ]
          },
          "metadata": {},
          "execution_count": 63
        }
      ]
    },
    {
      "cell_type": "code",
      "source": [
        "MATRIX.ndim"
      ],
      "metadata": {
        "colab": {
          "base_uri": "https://localhost:8080/"
        },
        "id": "1bZJ4z1Wc7Am",
        "outputId": "d43c44f7-66d9-4989-bb6c-4ce4bf3ca217"
      },
      "execution_count": 64,
      "outputs": [
        {
          "output_type": "execute_result",
          "data": {
            "text/plain": [
              "2"
            ]
          },
          "metadata": {},
          "execution_count": 64
        }
      ]
    },
    {
      "cell_type": "code",
      "source": [
        "MATRIX[0][0].item()"
      ],
      "metadata": {
        "colab": {
          "base_uri": "https://localhost:8080/"
        },
        "id": "QJOeGP0hc9kU",
        "outputId": "8b6405b6-71dc-4bc7-912e-beacb0b5c70a"
      },
      "execution_count": 65,
      "outputs": [
        {
          "output_type": "execute_result",
          "data": {
            "text/plain": [
              "7"
            ]
          },
          "metadata": {},
          "execution_count": 65
        }
      ]
    },
    {
      "cell_type": "code",
      "source": [
        "MATRIX.shape"
      ],
      "metadata": {
        "colab": {
          "base_uri": "https://localhost:8080/"
        },
        "id": "jhzVFC6LdDEW",
        "outputId": "9314e834-317f-4608-fe95-7efcdef189b2"
      },
      "execution_count": 66,
      "outputs": [
        {
          "output_type": "execute_result",
          "data": {
            "text/plain": [
              "torch.Size([2, 2])"
            ]
          },
          "metadata": {},
          "execution_count": 66
        }
      ]
    },
    {
      "cell_type": "code",
      "source": [
        "#TENSOR\n",
        "\n",
        "TENSOR = torch.tensor([[[1,2], [3,4], [5,5]], [[1,2], [3,4], [5,5]]])\n",
        "\n",
        "print(TENSOR)\n",
        "\n",
        "TENSOR.size()"
      ],
      "metadata": {
        "colab": {
          "base_uri": "https://localhost:8080/"
        },
        "id": "p91AgZxsdxIy",
        "outputId": "3daf0965-756a-42ab-800d-57a97c097f1f"
      },
      "execution_count": 114,
      "outputs": [
        {
          "output_type": "stream",
          "name": "stdout",
          "text": [
            "tensor([[[1, 2],\n",
            "         [3, 4],\n",
            "         [5, 5]],\n",
            "\n",
            "        [[1, 2],\n",
            "         [3, 4],\n",
            "         [5, 5]]])\n"
          ]
        },
        {
          "output_type": "execute_result",
          "data": {
            "text/plain": [
              "torch.Size([2, 3, 2])"
            ]
          },
          "metadata": {},
          "execution_count": 114
        }
      ]
    },
    {
      "cell_type": "code",
      "source": [
        "TENSOR.ndim"
      ],
      "metadata": {
        "colab": {
          "base_uri": "https://localhost:8080/"
        },
        "id": "23b5HbSI5H4H",
        "outputId": "5b7c7d99-4da1-4965-92fb-af78b4923e3b"
      },
      "execution_count": 115,
      "outputs": [
        {
          "output_type": "execute_result",
          "data": {
            "text/plain": [
              "3"
            ]
          },
          "metadata": {},
          "execution_count": 115
        }
      ]
    },
    {
      "cell_type": "markdown",
      "source": [
        "### Random tensors"
      ],
      "metadata": {
        "id": "VKMWwJCPkRys"
      }
    },
    {
      "cell_type": "code",
      "source": [
        " # Create random tensor\n",
        "\n",
        "random_tensor = torch.rand(3,4)\n",
        "random_tensor"
      ],
      "metadata": {
        "colab": {
          "base_uri": "https://localhost:8080/"
        },
        "id": "B2f7XxHvkWOx",
        "outputId": "bdb145d7-a644-461c-8551-9644ae401d92"
      },
      "execution_count": 117,
      "outputs": [
        {
          "output_type": "execute_result",
          "data": {
            "text/plain": [
              "tensor([[0.9022, 0.3785, 0.6522, 0.8740],\n",
              "        [0.5370, 0.7008, 0.6363, 0.7114],\n",
              "        [0.0691, 0.0415, 0.8305, 0.6436]])"
            ]
          },
          "metadata": {},
          "execution_count": 117
        }
      ]
    },
    {
      "cell_type": "code",
      "source": [
        "random_tensor.shape"
      ],
      "metadata": {
        "colab": {
          "base_uri": "https://localhost:8080/"
        },
        "id": "a9FiCxy_lQrB",
        "outputId": "b65c081e-8957-44a9-f7f4-a336a300d24a"
      },
      "execution_count": 69,
      "outputs": [
        {
          "output_type": "execute_result",
          "data": {
            "text/plain": [
              "torch.Size([3, 4])"
            ]
          },
          "metadata": {},
          "execution_count": 69
        }
      ]
    },
    {
      "cell_type": "code",
      "source": [
        "random_tensor.ndim"
      ],
      "metadata": {
        "colab": {
          "base_uri": "https://localhost:8080/"
        },
        "id": "EKYFetA97JIK",
        "outputId": "3937c805-f9f8-4e90-98c1-817596493309"
      },
      "execution_count": 118,
      "outputs": [
        {
          "output_type": "execute_result",
          "data": {
            "text/plain": [
              "2"
            ]
          },
          "metadata": {},
          "execution_count": 118
        }
      ]
    },
    {
      "cell_type": "code",
      "source": [
        "random_image_size_tensor = torch.rand(size=(224,244,3))\n",
        "random_image_size_tensor.size()"
      ],
      "metadata": {
        "colab": {
          "base_uri": "https://localhost:8080/"
        },
        "id": "yJLVCE4mmH3i",
        "outputId": "c25b1014-6d20-4532-dc5e-d971e55efa22"
      },
      "execution_count": 119,
      "outputs": [
        {
          "output_type": "execute_result",
          "data": {
            "text/plain": [
              "torch.Size([224, 244, 3])"
            ]
          },
          "metadata": {},
          "execution_count": 119
        }
      ]
    },
    {
      "cell_type": "code",
      "source": [
        "random_image_tensor = torch.rand(size=(3,224,244))\n",
        "random_image_tensor"
      ],
      "metadata": {
        "colab": {
          "base_uri": "https://localhost:8080/"
        },
        "id": "sW1mMdconzrJ",
        "outputId": "d08e344a-00fd-4217-c39a-dbc947fa40a0"
      },
      "execution_count": 71,
      "outputs": [
        {
          "output_type": "execute_result",
          "data": {
            "text/plain": [
              "tensor([[[1.3602e-01, 3.3075e-01, 4.5245e-01,  ..., 5.4527e-01,\n",
              "          5.7463e-01, 8.9601e-02],\n",
              "         [5.0652e-01, 7.3853e-01, 3.8033e-01,  ..., 3.9398e-01,\n",
              "          5.3191e-01, 9.3050e-01],\n",
              "         [4.0001e-02, 6.8244e-01, 5.8331e-01,  ..., 5.4374e-01,\n",
              "          1.8090e-01, 5.6839e-01],\n",
              "         ...,\n",
              "         [8.8719e-01, 8.6301e-01, 1.1351e-01,  ..., 8.2638e-01,\n",
              "          2.9867e-01, 4.5423e-01],\n",
              "         [5.3255e-02, 1.3468e-02, 1.0091e-02,  ..., 9.9208e-01,\n",
              "          4.1973e-01, 9.0986e-01],\n",
              "         [9.3923e-01, 9.4793e-01, 7.2257e-02,  ..., 6.8572e-01,\n",
              "          1.8949e-01, 9.4999e-01]],\n",
              "\n",
              "        [[6.3932e-01, 3.4052e-02, 7.6250e-01,  ..., 9.7665e-01,\n",
              "          2.4120e-02, 8.2568e-02],\n",
              "         [4.2020e-01, 7.3729e-01, 7.7777e-01,  ..., 3.2455e-01,\n",
              "          1.0641e-01, 3.2864e-01],\n",
              "         [4.4499e-01, 5.2207e-01, 7.6126e-02,  ..., 7.3301e-01,\n",
              "          6.1533e-01, 6.5473e-01],\n",
              "         ...,\n",
              "         [7.2941e-01, 7.9105e-01, 2.4339e-01,  ..., 3.8398e-01,\n",
              "          8.2492e-01, 6.9447e-01],\n",
              "         [4.0794e-01, 2.0854e-01, 9.3848e-01,  ..., 2.1886e-01,\n",
              "          7.9833e-01, 6.6081e-02],\n",
              "         [7.6544e-01, 1.9224e-01, 9.2907e-01,  ..., 7.4874e-01,\n",
              "          4.5696e-01, 1.2336e-01]],\n",
              "\n",
              "        [[6.0441e-01, 8.9925e-01, 7.3892e-01,  ..., 6.5863e-01,\n",
              "          4.6754e-01, 7.5790e-02],\n",
              "         [6.0462e-01, 8.5295e-01, 5.7900e-01,  ..., 4.2872e-01,\n",
              "          5.7518e-02, 7.9874e-01],\n",
              "         [1.0576e-01, 1.5848e-02, 7.0632e-02,  ..., 7.9896e-01,\n",
              "          3.0781e-01, 5.7102e-01],\n",
              "         ...,\n",
              "         [9.3345e-01, 9.1908e-01, 8.7815e-01,  ..., 3.4432e-01,\n",
              "          4.1994e-01, 9.8207e-01],\n",
              "         [5.8799e-02, 2.4934e-01, 7.6428e-01,  ..., 3.8516e-01,\n",
              "          3.3319e-04, 8.3311e-01],\n",
              "         [2.5520e-01, 6.0000e-01, 7.6737e-01,  ..., 4.5807e-01,\n",
              "          5.2208e-01, 2.0521e-01]]])"
            ]
          },
          "metadata": {},
          "execution_count": 71
        }
      ]
    },
    {
      "cell_type": "markdown",
      "source": [
        "### ZEROS and ones"
      ],
      "metadata": {
        "id": "BgpI5_ljp1uJ"
      }
    },
    {
      "cell_type": "code",
      "source": [
        "# Create a tensor of all zeros\n",
        "zeros = torch.zeros(size=(3,4))\n",
        "zeros"
      ],
      "metadata": {
        "colab": {
          "base_uri": "https://localhost:8080/"
        },
        "id": "yWUOL5R0pfuA",
        "outputId": "be98b5cd-4d12-46f1-ab09-db65b3620ab5"
      },
      "execution_count": 72,
      "outputs": [
        {
          "output_type": "execute_result",
          "data": {
            "text/plain": [
              "tensor([[0., 0., 0., 0.],\n",
              "        [0., 0., 0., 0.],\n",
              "        [0., 0., 0., 0.]])"
            ]
          },
          "metadata": {},
          "execution_count": 72
        }
      ]
    },
    {
      "cell_type": "code",
      "source": [
        "# Create a tensor of all ones\n",
        "\n",
        "ones = torch.ones(size=(3,4))\n",
        "ones"
      ],
      "metadata": {
        "colab": {
          "base_uri": "https://localhost:8080/"
        },
        "id": "tHMcDwbuqOAl",
        "outputId": "27c295dd-2970-4d73-b238-734b734ccdc7"
      },
      "execution_count": 73,
      "outputs": [
        {
          "output_type": "execute_result",
          "data": {
            "text/plain": [
              "tensor([[1., 1., 1., 1.],\n",
              "        [1., 1., 1., 1.],\n",
              "        [1., 1., 1., 1.]])"
            ]
          },
          "metadata": {},
          "execution_count": 73
        }
      ]
    },
    {
      "cell_type": "markdown",
      "source": [
        "### Creating a range of tensors and tensors-like"
      ],
      "metadata": {
        "id": "Ck_fgb5mqwcH"
      }
    },
    {
      "cell_type": "code",
      "source": [
        "# Torch.arange()\n",
        "one_to_ten = torch.arange(1,11,)\n",
        "one_to_ten"
      ],
      "metadata": {
        "colab": {
          "base_uri": "https://localhost:8080/"
        },
        "id": "wjorkzjUrI1P",
        "outputId": "7481019a-0a77-4ad7-c895-948e4ee83e58"
      },
      "execution_count": 75,
      "outputs": [
        {
          "output_type": "execute_result",
          "data": {
            "text/plain": [
              "tensor([ 1,  2,  3,  4,  5,  6,  7,  8,  9, 10])"
            ]
          },
          "metadata": {},
          "execution_count": 75
        }
      ]
    },
    {
      "cell_type": "code",
      "source": [
        "# Creating tensors like\n",
        "ten_zeros = torch.zeros_like(one_to_ten)\n",
        "ten_zeros"
      ],
      "metadata": {
        "colab": {
          "base_uri": "https://localhost:8080/"
        },
        "id": "y1_Zp2Tfspv2",
        "outputId": "cb441b46-920f-4966-c51b-096f6d8f01c0"
      },
      "execution_count": 76,
      "outputs": [
        {
          "output_type": "execute_result",
          "data": {
            "text/plain": [
              "tensor([0, 0, 0, 0, 0, 0, 0, 0, 0, 0])"
            ]
          },
          "metadata": {},
          "execution_count": 76
        }
      ]
    },
    {
      "cell_type": "markdown",
      "source": [
        "### Tensor Data Types\n",
        "\n",
        "**Note:** Tensors datatypes is one of 3 big issues you 'll encounter in PyTorch and DeepLearning:\n",
        "\n",
        "1. Tensors not right datatype\n",
        "2. Tensors not right shape\n",
        "3. Tensors not right device"
      ],
      "metadata": {
        "id": "2FZII8do4vZ7"
      }
    },
    {
      "cell_type": "code",
      "source": [
        "# Float 32 tensor\n",
        "\n",
        "float_32_tensor = torch.tensor([3.1,6.5,9.2,], dtype=None, device=None, requires_grad=False,)\n",
        "float_32_tensor"
      ],
      "metadata": {
        "colab": {
          "base_uri": "https://localhost:8080/"
        },
        "id": "AX_Amg904zPy",
        "outputId": "09688854-72b6-4795-e01b-5c94fcec2d38"
      },
      "execution_count": 77,
      "outputs": [
        {
          "output_type": "execute_result",
          "data": {
            "text/plain": [
              "tensor([3.1000, 6.5000, 9.2000])"
            ]
          },
          "metadata": {},
          "execution_count": 77
        }
      ]
    },
    {
      "cell_type": "code",
      "source": [
        "#Float 16 tensor\n",
        "\n",
        "float_16_tensor = float_32_tensor.type(dtype=torch.float16)\n",
        "float_16_tensor"
      ],
      "metadata": {
        "colab": {
          "base_uri": "https://localhost:8080/"
        },
        "id": "0M5EMhEN6lOg",
        "outputId": "dcc5164e-45ae-4c00-f725-0f55f64a69d8"
      },
      "execution_count": 78,
      "outputs": [
        {
          "output_type": "execute_result",
          "data": {
            "text/plain": [
              "tensor([3.0996, 6.5000, 9.2031], dtype=torch.float16)"
            ]
          },
          "metadata": {},
          "execution_count": 78
        }
      ]
    },
    {
      "cell_type": "code",
      "source": [
        "result = float_16_tensor * float_32_tensor\n",
        "result.dtype"
      ],
      "metadata": {
        "colab": {
          "base_uri": "https://localhost:8080/"
        },
        "id": "p8ntsiVi7Xta",
        "outputId": "2340a771-4a64-4b7d-f8e7-3f75903c38fc"
      },
      "execution_count": 79,
      "outputs": [
        {
          "output_type": "execute_result",
          "data": {
            "text/plain": [
              "torch.float32"
            ]
          },
          "metadata": {},
          "execution_count": 79
        }
      ]
    },
    {
      "cell_type": "code",
      "source": [
        "int_32_tensor = torch.tensor([3,4, 6], dtype=torch.int32)\n",
        "int_32_tensor"
      ],
      "metadata": {
        "colab": {
          "base_uri": "https://localhost:8080/"
        },
        "id": "rsuQ6uYJJH-g",
        "outputId": "cfd350ad-2a37-476a-8481-b00a6c2f994a"
      },
      "execution_count": 80,
      "outputs": [
        {
          "output_type": "execute_result",
          "data": {
            "text/plain": [
              "tensor([3, 4, 6], dtype=torch.int32)"
            ]
          },
          "metadata": {},
          "execution_count": 80
        }
      ]
    },
    {
      "cell_type": "code",
      "source": [
        "int_32_tensor * float_32_tensor"
      ],
      "metadata": {
        "colab": {
          "base_uri": "https://localhost:8080/"
        },
        "id": "kfEr7M58JXE_",
        "outputId": "94ce8a56-a6ee-4b7d-a082-6a1c7f0bb36c"
      },
      "execution_count": 81,
      "outputs": [
        {
          "output_type": "execute_result",
          "data": {
            "text/plain": [
              "tensor([ 9.3000, 26.0000, 55.2000])"
            ]
          },
          "metadata": {},
          "execution_count": 81
        }
      ]
    },
    {
      "cell_type": "markdown",
      "source": [
        "### Getting information from tensors\n",
        "\n",
        "`tensor.dtype` and `tensor.shape` and `tensor.device`"
      ],
      "metadata": {
        "id": "nfNH90CNANdT"
      }
    },
    {
      "cell_type": "code",
      "source": [
        "random_tensor = torch.rand(3,4)\n",
        "random_tensor"
      ],
      "metadata": {
        "colab": {
          "base_uri": "https://localhost:8080/"
        },
        "id": "FUTkJv1JArZx",
        "outputId": "e7129b8b-78df-4d21-c6df-bd12f15e615a"
      },
      "execution_count": 121,
      "outputs": [
        {
          "output_type": "execute_result",
          "data": {
            "text/plain": [
              "tensor([[0.2459, 0.5878, 0.9542, 0.6630],\n",
              "        [0.7423, 0.8273, 0.0572, 0.3120],\n",
              "        [0.2553, 0.8140, 0.0321, 0.8902]])"
            ]
          },
          "metadata": {},
          "execution_count": 121
        }
      ]
    },
    {
      "cell_type": "code",
      "source": [
        "print(random_tensor)\n",
        "\n",
        "\n",
        "print(f\"Datatype of tensor: {random_tensor.dtype}\")\n",
        "print(f\"Shape of tensor: {random_tensor.shape}\")\n",
        "print(f\"Device tensor is on: {random_tensor.device}\")"
      ],
      "metadata": {
        "colab": {
          "base_uri": "https://localhost:8080/"
        },
        "id": "yeTa8-EaAu8z",
        "outputId": "b65d5252-1874-479f-f955-62d9bd9e938a"
      },
      "execution_count": 123,
      "outputs": [
        {
          "output_type": "stream",
          "name": "stdout",
          "text": [
            "tensor([[0.2459, 0.5878, 0.9542, 0.6630],\n",
            "        [0.7423, 0.8273, 0.0572, 0.3120],\n",
            "        [0.2553, 0.8140, 0.0321, 0.8902]])\n",
            "Datatype of tensor: torch.float32\n",
            "Shape of tensor: torch.Size([3, 4])\n",
            "Device tensor is on: cpu\n"
          ]
        }
      ]
    },
    {
      "cell_type": "markdown",
      "source": [
        "### Tensor Operations\n",
        "\n",
        "Ternsor Operations include:\n",
        "- Addition\n",
        "- Substraction\n",
        "- Multiplication\n",
        "- Division\n",
        "- Matrix Multiplication\n"
      ],
      "metadata": {
        "id": "NaxquSOBL7IG"
      }
    },
    {
      "cell_type": "code",
      "source": [
        "## Create A Tensor\n",
        "my_tensor = torch.tensor([1,2,3])\n",
        "\n",
        "my_tensor + 10"
      ],
      "metadata": {
        "colab": {
          "base_uri": "https://localhost:8080/"
        },
        "id": "ryRQS4kNMKfe",
        "outputId": "079aaa5c-374c-4406-901f-a4af2d5b3c8f"
      },
      "execution_count": 82,
      "outputs": [
        {
          "output_type": "execute_result",
          "data": {
            "text/plain": [
              "tensor([11, 12, 13])"
            ]
          },
          "metadata": {},
          "execution_count": 82
        }
      ]
    },
    {
      "cell_type": "code",
      "source": [
        "# Multiply a Tensor by 10\n",
        "\n",
        "my_tensor * 10"
      ],
      "metadata": {
        "colab": {
          "base_uri": "https://localhost:8080/"
        },
        "id": "pyAtV8oUM4dy",
        "outputId": "95157277-e867-4e64-82c6-16442f400437"
      },
      "execution_count": 83,
      "outputs": [
        {
          "output_type": "execute_result",
          "data": {
            "text/plain": [
              "tensor([10, 20, 30])"
            ]
          },
          "metadata": {},
          "execution_count": 83
        }
      ]
    },
    {
      "cell_type": "code",
      "source": [
        "# Subtract Tensor\n",
        "\n",
        "my_tensor - 10"
      ],
      "metadata": {
        "id": "B_YC27IBNSco",
        "outputId": "689a71dd-46ce-4479-e28c-e0bb605b76f0",
        "colab": {
          "base_uri": "https://localhost:8080/"
        }
      },
      "execution_count": 84,
      "outputs": [
        {
          "output_type": "execute_result",
          "data": {
            "text/plain": [
              "tensor([-9, -8, -7])"
            ]
          },
          "metadata": {},
          "execution_count": 84
        }
      ]
    },
    {
      "cell_type": "markdown",
      "source": [
        "## Matrix Multiplication\n",
        "\n",
        "two rules should be applied:\n",
        "\n",
        "1- inner dimension should be same\n",
        "2- output shape will be like outer shapes"
      ],
      "metadata": {
        "id": "cOmwQfoBl9xo"
      }
    },
    {
      "cell_type": "code",
      "source": [
        "tensor_A = torch.tensor([[1,2,3], [4,5,6], [7,8,9]], dtype=torch.float32)\n",
        "tensor_B = torch.rand(size=(3,3))\n",
        "\n",
        "print(tensor_A.dtype)\n",
        "print(tensor_B.dtype)\n",
        "\n",
        "torch.matmul(tensor_A, tensor_B)\n",
        "\n"
      ],
      "metadata": {
        "colab": {
          "base_uri": "https://localhost:8080/"
        },
        "id": "Z4eTEf4UmiPb",
        "outputId": "aeac33cb-0fc8-40c9-f5a6-4ddaacd5f9bb"
      },
      "execution_count": 85,
      "outputs": [
        {
          "output_type": "stream",
          "name": "stdout",
          "text": [
            "torch.float32\n",
            "torch.float32\n"
          ]
        },
        {
          "output_type": "execute_result",
          "data": {
            "text/plain": [
              "tensor([[ 1.9209,  3.3669,  3.8136],\n",
              "        [ 5.2537,  8.3488,  8.9385],\n",
              "        [ 8.5865, 13.3307, 14.0634]])"
            ]
          },
          "metadata": {},
          "execution_count": 85
        }
      ]
    },
    {
      "cell_type": "markdown",
      "source": [
        "## Find Tensor Min, Max, Mean, Sum, (etc.)\n"
      ],
      "metadata": {
        "id": "5ul4UaPBneQZ"
      }
    },
    {
      "cell_type": "code",
      "source": [
        "tensor = torch.arange(0,100,10)\n",
        "tensor"
      ],
      "metadata": {
        "colab": {
          "base_uri": "https://localhost:8080/"
        },
        "id": "RG6FOsV4n7v5",
        "outputId": "b0e2c4ef-3a09-49dd-b8a5-e36276ffe345"
      },
      "execution_count": 86,
      "outputs": [
        {
          "output_type": "execute_result",
          "data": {
            "text/plain": [
              "tensor([ 0, 10, 20, 30, 40, 50, 60, 70, 80, 90])"
            ]
          },
          "metadata": {},
          "execution_count": 86
        }
      ]
    },
    {
      "cell_type": "code",
      "source": [
        "# Find min\n",
        "\n",
        "tensor.min(), torch.min(tensor)"
      ],
      "metadata": {
        "colab": {
          "base_uri": "https://localhost:8080/"
        },
        "id": "9zI3wKspoMRy",
        "outputId": "92996828-b1b3-4527-b399-12c3ee60e258"
      },
      "execution_count": 87,
      "outputs": [
        {
          "output_type": "execute_result",
          "data": {
            "text/plain": [
              "(tensor(0), tensor(0))"
            ]
          },
          "metadata": {},
          "execution_count": 87
        }
      ]
    },
    {
      "cell_type": "code",
      "source": [
        "# Find Max\n",
        "\n",
        "tensor.max(), torch.max(tensor)"
      ],
      "metadata": {
        "colab": {
          "base_uri": "https://localhost:8080/"
        },
        "id": "B5xM7klxoX44",
        "outputId": "0ec16503-cf96-4773-9dee-02624a80fc99"
      },
      "execution_count": 88,
      "outputs": [
        {
          "output_type": "execute_result",
          "data": {
            "text/plain": [
              "(tensor(90), tensor(90))"
            ]
          },
          "metadata": {},
          "execution_count": 88
        }
      ]
    },
    {
      "cell_type": "code",
      "source": [
        "# Find Mean\n",
        "\n",
        "tensor.type(torch.float32).mean(), torch.mean(tensor.type(torch.float32))"
      ],
      "metadata": {
        "colab": {
          "base_uri": "https://localhost:8080/"
        },
        "id": "XNTp0hJDoboI",
        "outputId": "bf8b810a-951f-4300-a48c-555addabfa73"
      },
      "execution_count": 89,
      "outputs": [
        {
          "output_type": "execute_result",
          "data": {
            "text/plain": [
              "(tensor(45.), tensor(45.))"
            ]
          },
          "metadata": {},
          "execution_count": 89
        }
      ]
    },
    {
      "cell_type": "code",
      "source": [
        "# Find Sum\n",
        "\n",
        "tensor.sum(), torch.sum(tensor)"
      ],
      "metadata": {
        "colab": {
          "base_uri": "https://localhost:8080/"
        },
        "id": "DyuPISCOosme",
        "outputId": "7d772770-433c-4de8-bf9d-b04ccdd55597"
      },
      "execution_count": 90,
      "outputs": [
        {
          "output_type": "execute_result",
          "data": {
            "text/plain": [
              "(tensor(450), tensor(450))"
            ]
          },
          "metadata": {},
          "execution_count": 90
        }
      ]
    },
    {
      "cell_type": "markdown",
      "source": [
        "## Finding the positional min and max"
      ],
      "metadata": {
        "id": "4wJh9CD5pMOG"
      }
    },
    {
      "cell_type": "code",
      "source": [
        "# find minimum value index\n",
        "\n",
        "tensor.argmin(), torch.argmin(tensor)"
      ],
      "metadata": {
        "colab": {
          "base_uri": "https://localhost:8080/"
        },
        "id": "Wp1UY_ylqJZU",
        "outputId": "857cae32-2d6d-42b0-9074-6105b35336d7"
      },
      "execution_count": 91,
      "outputs": [
        {
          "output_type": "execute_result",
          "data": {
            "text/plain": [
              "(tensor(0), tensor(0))"
            ]
          },
          "metadata": {},
          "execution_count": 91
        }
      ]
    },
    {
      "cell_type": "code",
      "source": [
        "# find maximum value index\n",
        "\n",
        "tensor.argmax(), torch.argmax(tensor)"
      ],
      "metadata": {
        "colab": {
          "base_uri": "https://localhost:8080/"
        },
        "id": "8ewb193fqSTL",
        "outputId": "2ec9872b-5d0b-4947-c107-57f4fc346e20"
      },
      "execution_count": 92,
      "outputs": [
        {
          "output_type": "execute_result",
          "data": {
            "text/plain": [
              "(tensor(9), tensor(9))"
            ]
          },
          "metadata": {},
          "execution_count": 92
        }
      ]
    },
    {
      "cell_type": "markdown",
      "source": [
        "# Reshaping, stacking, squeezing and unsqueezing\n",
        "\n",
        "* reshaping - reshapes an input tensor to a defined shape\n",
        "* viewing - Return a view of an input tensor of certain shape but keep the same memory as the original tensor\n",
        "* stacking - combine multiple tensors into a single tensor (vstack) and (hstack)\n",
        "* squeezing - remove all `1` dimensions from a tensor\n",
        "* unsqueezing - add  a `1` dimension to a tensor\n",
        "* Permute - Return a view of the input with dimensions permuted(swapped) in a certain way.\n"
      ],
      "metadata": {
        "id": "rhAl391JqmUP"
      }
    },
    {
      "cell_type": "code",
      "source": [
        "x = torch.arange(1,10)\n",
        "\n",
        "x, x.shape"
      ],
      "metadata": {
        "colab": {
          "base_uri": "https://localhost:8080/"
        },
        "id": "4CW711PurLVP",
        "outputId": "5a2ee912-6c05-4397-bb0f-ecd7e17fbbb6"
      },
      "execution_count": 93,
      "outputs": [
        {
          "output_type": "execute_result",
          "data": {
            "text/plain": [
              "(tensor([1, 2, 3, 4, 5, 6, 7, 8, 9]), torch.Size([9]))"
            ]
          },
          "metadata": {},
          "execution_count": 93
        }
      ]
    },
    {
      "cell_type": "code",
      "source": [
        "x.reshape(9,1), x.reshape(9,1).shape"
      ],
      "metadata": {
        "colab": {
          "base_uri": "https://localhost:8080/"
        },
        "id": "jAYQFQilsVyZ",
        "outputId": "4db0077d-b842-4c6d-85eb-d52813462d6f"
      },
      "execution_count": 94,
      "outputs": [
        {
          "output_type": "execute_result",
          "data": {
            "text/plain": [
              "(tensor([[1],\n",
              "         [2],\n",
              "         [3],\n",
              "         [4],\n",
              "         [5],\n",
              "         [6],\n",
              "         [7],\n",
              "         [8],\n",
              "         [9]]),\n",
              " torch.Size([9, 1]))"
            ]
          },
          "metadata": {},
          "execution_count": 94
        }
      ]
    },
    {
      "cell_type": "code",
      "source": [
        "x[0]"
      ],
      "metadata": {
        "colab": {
          "base_uri": "https://localhost:8080/"
        },
        "id": "ophd-af3stJ1",
        "outputId": "16ea51cc-a705-411c-b07d-b831848db76a"
      },
      "execution_count": 95,
      "outputs": [
        {
          "output_type": "execute_result",
          "data": {
            "text/plain": [
              "tensor(1)"
            ]
          },
          "metadata": {},
          "execution_count": 95
        }
      ]
    },
    {
      "cell_type": "code",
      "source": [
        "# Change the view of the tensor\n",
        "# Changing z will also change x because they share the same memory\n",
        "z = x.view(3,3)\n",
        "z"
      ],
      "metadata": {
        "colab": {
          "base_uri": "https://localhost:8080/"
        },
        "id": "tDbSDS9FszV1",
        "outputId": "f9266dc7-97d6-416d-a102-3e36cce58b02"
      },
      "execution_count": 96,
      "outputs": [
        {
          "output_type": "execute_result",
          "data": {
            "text/plain": [
              "tensor([[1, 2, 3],\n",
              "        [4, 5, 6],\n",
              "        [7, 8, 9]])"
            ]
          },
          "metadata": {},
          "execution_count": 96
        }
      ]
    },
    {
      "cell_type": "code",
      "source": [
        "# Stack tensors\n",
        "\n",
        "x_stacked = torch.stack([x,x,x,x])\n",
        "x_stacked"
      ],
      "metadata": {
        "colab": {
          "base_uri": "https://localhost:8080/"
        },
        "id": "jRUrvfN6ttls",
        "outputId": "c845c3b9-9b7f-49d3-df3e-69264cc77716"
      },
      "execution_count": 97,
      "outputs": [
        {
          "output_type": "execute_result",
          "data": {
            "text/plain": [
              "tensor([[1, 2, 3, 4, 5, 6, 7, 8, 9],\n",
              "        [1, 2, 3, 4, 5, 6, 7, 8, 9],\n",
              "        [1, 2, 3, 4, 5, 6, 7, 8, 9],\n",
              "        [1, 2, 3, 4, 5, 6, 7, 8, 9]])"
            ]
          },
          "metadata": {},
          "execution_count": 97
        }
      ]
    },
    {
      "cell_type": "code",
      "source": [
        "x_stacked.squeeze()"
      ],
      "metadata": {
        "colab": {
          "base_uri": "https://localhost:8080/"
        },
        "id": "Ey61yK4wuKtl",
        "outputId": "df276042-c805-42a1-d6f7-2d7d68ac5398"
      },
      "execution_count": 98,
      "outputs": [
        {
          "output_type": "execute_result",
          "data": {
            "text/plain": [
              "tensor([[1, 2, 3, 4, 5, 6, 7, 8, 9],\n",
              "        [1, 2, 3, 4, 5, 6, 7, 8, 9],\n",
              "        [1, 2, 3, 4, 5, 6, 7, 8, 9],\n",
              "        [1, 2, 3, 4, 5, 6, 7, 8, 9]])"
            ]
          },
          "metadata": {},
          "execution_count": 98
        }
      ]
    },
    {
      "cell_type": "code",
      "source": [
        "x.squeeze()"
      ],
      "metadata": {
        "colab": {
          "base_uri": "https://localhost:8080/"
        },
        "id": "RnQif-gJuhlT",
        "outputId": "689b9819-8562-4e90-a660-970851ecabe8"
      },
      "execution_count": 99,
      "outputs": [
        {
          "output_type": "execute_result",
          "data": {
            "text/plain": [
              "tensor([1, 2, 3, 4, 5, 6, 7, 8, 9])"
            ]
          },
          "metadata": {},
          "execution_count": 99
        }
      ]
    },
    {
      "cell_type": "code",
      "source": [
        "x_reshaped = x.reshape(1,9)\n",
        "x_reshaped, x_reshaped.shape\n"
      ],
      "metadata": {
        "colab": {
          "base_uri": "https://localhost:8080/"
        },
        "id": "opSyiCGhulhe",
        "outputId": "ff6c1c80-fc54-4647-928e-3a28ebd85d93"
      },
      "execution_count": 100,
      "outputs": [
        {
          "output_type": "execute_result",
          "data": {
            "text/plain": [
              "(tensor([[1, 2, 3, 4, 5, 6, 7, 8, 9]]), torch.Size([1, 9]))"
            ]
          },
          "metadata": {},
          "execution_count": 100
        }
      ]
    },
    {
      "cell_type": "code",
      "source": [
        "print(x_reshaped.squeeze())\n",
        "x_reshaped.squeeze().shape"
      ],
      "metadata": {
        "colab": {
          "base_uri": "https://localhost:8080/"
        },
        "id": "pKhHavlUu9nJ",
        "outputId": "5bed8a03-89e4-490c-a719-30d88ed40597"
      },
      "execution_count": 101,
      "outputs": [
        {
          "output_type": "stream",
          "name": "stdout",
          "text": [
            "tensor([1, 2, 3, 4, 5, 6, 7, 8, 9])\n"
          ]
        },
        {
          "output_type": "execute_result",
          "data": {
            "text/plain": [
              "torch.Size([9])"
            ]
          },
          "metadata": {},
          "execution_count": 101
        }
      ]
    },
    {
      "cell_type": "code",
      "source": [
        "x_reshaped.squeeze()[0]"
      ],
      "metadata": {
        "colab": {
          "base_uri": "https://localhost:8080/"
        },
        "id": "eklLnOVtvG-O",
        "outputId": "98aaf7bd-35bc-4f6c-9382-b0ab7f7f9e6a"
      },
      "execution_count": 102,
      "outputs": [
        {
          "output_type": "execute_result",
          "data": {
            "text/plain": [
              "tensor(1)"
            ]
          },
          "metadata": {},
          "execution_count": 102
        }
      ]
    },
    {
      "cell_type": "code",
      "source": [
        "# Unsqueeze a tensor\n",
        "\n",
        "print(f\"Previous Tensor: {x.squeeze()}\")\n",
        "print(f\"Previous Tensor Shape: {x.squeeze().shape}\")\n",
        "\n",
        "print(\"=========================\")\n",
        "\n",
        "print(f\"New Tensor: {x.squeeze().unsqueeze(dim=0)}\")\n",
        "print(f\"New Tensor Shape: {x.squeeze().unsqueeze(dim=0).shape}\")\n"
      ],
      "metadata": {
        "colab": {
          "base_uri": "https://localhost:8080/"
        },
        "id": "PJHmrVQavQZr",
        "outputId": "e27327c0-e4bb-4b64-dbd8-bbeb2aadf20c"
      },
      "execution_count": 103,
      "outputs": [
        {
          "output_type": "stream",
          "name": "stdout",
          "text": [
            "Previous Tensor: tensor([1, 2, 3, 4, 5, 6, 7, 8, 9])\n",
            "Previous Tensor Shape: torch.Size([9])\n",
            "=========================\n",
            "New Tensor: tensor([[1, 2, 3, 4, 5, 6, 7, 8, 9]])\n",
            "New Tensor Shape: torch.Size([1, 9])\n"
          ]
        }
      ]
    },
    {
      "cell_type": "code",
      "source": [
        "# Torch.permute\n",
        "\n",
        "x_original = torch.rand(size=(244,244,3))\n",
        "print(x_original)\n",
        "\n",
        "x_permuted = x_original.permute(2,0,1)\n",
        "x_permuted"
      ],
      "metadata": {
        "colab": {
          "base_uri": "https://localhost:8080/"
        },
        "id": "iAai6qBUwIsB",
        "outputId": "b7165d6b-510e-4360-ed4c-29d16047cf32"
      },
      "execution_count": 104,
      "outputs": [
        {
          "output_type": "stream",
          "name": "stdout",
          "text": [
            "tensor([[[0.4670, 0.1872, 0.2009],\n",
            "         [0.8991, 0.8289, 0.7740],\n",
            "         [0.8052, 0.4894, 0.8516],\n",
            "         ...,\n",
            "         [0.1366, 0.5190, 0.1764],\n",
            "         [0.6661, 0.2094, 0.2067],\n",
            "         [0.7011, 0.9830, 0.9242]],\n",
            "\n",
            "        [[0.2366, 0.6523, 0.8765],\n",
            "         [0.8703, 0.3951, 0.4003],\n",
            "         [0.6208, 0.9945, 0.3907],\n",
            "         ...,\n",
            "         [0.9916, 0.3409, 0.7362],\n",
            "         [0.8402, 0.5280, 0.1251],\n",
            "         [0.1609, 0.4715, 0.3660]],\n",
            "\n",
            "        [[0.6914, 0.2253, 0.7930],\n",
            "         [0.5984, 0.3296, 0.7381],\n",
            "         [0.1903, 0.8711, 0.0678],\n",
            "         ...,\n",
            "         [0.2805, 0.3675, 0.5829],\n",
            "         [0.0800, 0.9607, 0.9691],\n",
            "         [0.1394, 0.3926, 0.7780]],\n",
            "\n",
            "        ...,\n",
            "\n",
            "        [[0.1422, 0.3710, 0.0837],\n",
            "         [0.8960, 0.8168, 0.4356],\n",
            "         [0.6641, 0.6179, 0.1918],\n",
            "         ...,\n",
            "         [0.5633, 0.8370, 0.4002],\n",
            "         [0.8488, 0.8912, 0.2164],\n",
            "         [0.9688, 0.3515, 0.4597]],\n",
            "\n",
            "        [[0.2159, 0.6257, 0.1255],\n",
            "         [0.6736, 0.7596, 0.4113],\n",
            "         [0.9216, 0.6459, 0.8870],\n",
            "         ...,\n",
            "         [0.7993, 0.1967, 0.6170],\n",
            "         [0.5294, 0.8464, 0.7040],\n",
            "         [0.1839, 0.0643, 0.6215]],\n",
            "\n",
            "        [[0.9481, 0.3385, 0.2327],\n",
            "         [0.7575, 0.2706, 0.8517],\n",
            "         [0.5980, 0.8992, 0.1962],\n",
            "         ...,\n",
            "         [0.7081, 0.1631, 0.6201],\n",
            "         [0.2516, 0.3979, 0.9724],\n",
            "         [0.3118, 0.7108, 0.7216]]])\n"
          ]
        },
        {
          "output_type": "execute_result",
          "data": {
            "text/plain": [
              "tensor([[[0.4670, 0.8991, 0.8052,  ..., 0.1366, 0.6661, 0.7011],\n",
              "         [0.2366, 0.8703, 0.6208,  ..., 0.9916, 0.8402, 0.1609],\n",
              "         [0.6914, 0.5984, 0.1903,  ..., 0.2805, 0.0800, 0.1394],\n",
              "         ...,\n",
              "         [0.1422, 0.8960, 0.6641,  ..., 0.5633, 0.8488, 0.9688],\n",
              "         [0.2159, 0.6736, 0.9216,  ..., 0.7993, 0.5294, 0.1839],\n",
              "         [0.9481, 0.7575, 0.5980,  ..., 0.7081, 0.2516, 0.3118]],\n",
              "\n",
              "        [[0.1872, 0.8289, 0.4894,  ..., 0.5190, 0.2094, 0.9830],\n",
              "         [0.6523, 0.3951, 0.9945,  ..., 0.3409, 0.5280, 0.4715],\n",
              "         [0.2253, 0.3296, 0.8711,  ..., 0.3675, 0.9607, 0.3926],\n",
              "         ...,\n",
              "         [0.3710, 0.8168, 0.6179,  ..., 0.8370, 0.8912, 0.3515],\n",
              "         [0.6257, 0.7596, 0.6459,  ..., 0.1967, 0.8464, 0.0643],\n",
              "         [0.3385, 0.2706, 0.8992,  ..., 0.1631, 0.3979, 0.7108]],\n",
              "\n",
              "        [[0.2009, 0.7740, 0.8516,  ..., 0.1764, 0.2067, 0.9242],\n",
              "         [0.8765, 0.4003, 0.3907,  ..., 0.7362, 0.1251, 0.3660],\n",
              "         [0.7930, 0.7381, 0.0678,  ..., 0.5829, 0.9691, 0.7780],\n",
              "         ...,\n",
              "         [0.0837, 0.4356, 0.1918,  ..., 0.4002, 0.2164, 0.4597],\n",
              "         [0.1255, 0.4113, 0.8870,  ..., 0.6170, 0.7040, 0.6215],\n",
              "         [0.2327, 0.8517, 0.1962,  ..., 0.6201, 0.9724, 0.7216]]])"
            ]
          },
          "metadata": {},
          "execution_count": 104
        }
      ]
    },
    {
      "cell_type": "markdown",
      "source": [
        "## Indexing: Select data from a tensor"
      ],
      "metadata": {
        "id": "1WCEfgj3w2j_"
      }
    },
    {
      "cell_type": "code",
      "source": [
        "x = torch.arange(1,10)\n",
        "\n",
        "\n",
        "x_reshaped = x.reshape(1,3,3)\n",
        "\n",
        "x_reshaped"
      ],
      "metadata": {
        "colab": {
          "base_uri": "https://localhost:8080/"
        },
        "id": "ucAz0geE1KQ3",
        "outputId": "f68d4d21-19b0-43fa-b00b-4240d4d9ad85"
      },
      "execution_count": 105,
      "outputs": [
        {
          "output_type": "execute_result",
          "data": {
            "text/plain": [
              "tensor([[[1, 2, 3],\n",
              "         [4, 5, 6],\n",
              "         [7, 8, 9]]])"
            ]
          },
          "metadata": {},
          "execution_count": 105
        }
      ]
    },
    {
      "cell_type": "code",
      "source": [
        "x_reshaped[0]"
      ],
      "metadata": {
        "colab": {
          "base_uri": "https://localhost:8080/"
        },
        "id": "kmVp_lX31Rt-",
        "outputId": "ac9e07b6-c97c-47b4-af17-d3fc632aefce"
      },
      "execution_count": 106,
      "outputs": [
        {
          "output_type": "execute_result",
          "data": {
            "text/plain": [
              "tensor([[1, 2, 3],\n",
              "        [4, 5, 6],\n",
              "        [7, 8, 9]])"
            ]
          },
          "metadata": {},
          "execution_count": 106
        }
      ]
    },
    {
      "cell_type": "code",
      "source": [
        "x_reshaped[0][0]"
      ],
      "metadata": {
        "colab": {
          "base_uri": "https://localhost:8080/"
        },
        "id": "oXO64nIP1lwR",
        "outputId": "02335ee1-80ee-4ca0-c1ba-21ba3ba122b5"
      },
      "execution_count": 107,
      "outputs": [
        {
          "output_type": "execute_result",
          "data": {
            "text/plain": [
              "tensor([1, 2, 3])"
            ]
          },
          "metadata": {},
          "execution_count": 107
        }
      ]
    },
    {
      "cell_type": "code",
      "source": [
        "x_reshaped[0][0][0]"
      ],
      "metadata": {
        "colab": {
          "base_uri": "https://localhost:8080/"
        },
        "id": "fbc1rQX21pWW",
        "outputId": "57c6200e-f661-4d3b-e128-4222e408aa51"
      },
      "execution_count": 108,
      "outputs": [
        {
          "output_type": "execute_result",
          "data": {
            "text/plain": [
              "tensor(1)"
            ]
          },
          "metadata": {},
          "execution_count": 108
        }
      ]
    },
    {
      "cell_type": "code",
      "source": [
        "# You can use \":\" to select \"all\" of  a target dimension\n",
        "\n",
        "x_reshaped[:,:,0]"
      ],
      "metadata": {
        "colab": {
          "base_uri": "https://localhost:8080/"
        },
        "id": "mYTArlRX1qHc",
        "outputId": "caca5137-75a0-45ec-dc22-7ed23b0af9f3"
      },
      "execution_count": 109,
      "outputs": [
        {
          "output_type": "execute_result",
          "data": {
            "text/plain": [
              "tensor([[1, 4, 7]])"
            ]
          },
          "metadata": {},
          "execution_count": 109
        }
      ]
    },
    {
      "cell_type": "code",
      "source": [],
      "metadata": {
        "id": "_wwrZ0P-197x"
      },
      "execution_count": 109,
      "outputs": []
    }
  ]
}